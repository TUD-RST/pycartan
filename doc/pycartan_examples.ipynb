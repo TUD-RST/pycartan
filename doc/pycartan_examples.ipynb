{
 "cells": [
  {
   "cell_type": "code",
   "execution_count": 1,
   "metadata": {
    "collapsed": false
   },
   "outputs": [
    {
     "name": "stdout",
     "output_type": "stream",
     "text": [
      "Sat Sep 23 16:43:11 2017\n"
     ]
    }
   ],
   "source": [
    "import time\n",
    "print(time.ctime())"
   ]
  },
  {
   "cell_type": "markdown",
   "metadata": {},
   "source": [
    "This notebook illustrates the usage of [`pycartan`](https://github.com/TUD-RST/pycartan) - a python package built on top of sympy to facilitate calculations  with differential forms, especially in the field of control theory. Currently, this ipython notebook is the only documentation. For further questions either the source code or the authors should be consulted.\n",
    "\n",
    "\n",
    "$$\n",
    "\\newcommand{\\d}{\\mathrm{d}}\n",
    "\\newcommand{\\wg}{\\wedge}\n",
    "$$"
   ]
  },
  {
   "cell_type": "code",
   "execution_count": 2,
   "metadata": {
    "collapsed": true
   },
   "outputs": [],
   "source": [
    "import pycartan as pc\n",
    "import sympy as sp\n",
    "from sympy import sin, cos, exp\n",
    "\n",
    "# ipython extension to display the content of assignments (saves typing effort and redundancy)\n",
    "# triggered by special comment ##, see https://github.com/cknoll/displaytools\n",
    "%load_ext displaytools3"
   ]
  },
  {
   "cell_type": "markdown",
   "metadata": {},
   "source": [
    "First, some differential forms must be created"
   ]
  },
  {
   "cell_type": "code",
   "execution_count": 3,
   "metadata": {
    "collapsed": false
   },
   "outputs": [
    {
     "data": {
      "text/plain": [
       "(x1, x2, x3)"
      ]
     },
     "metadata": {},
     "output_type": "display_data"
    },
    {
     "data": {
      "text/plain": [
       "((1)dx1, (1)dx2, (1)dx3)"
      ]
     },
     "metadata": {},
     "output_type": "display_data"
    },
    {
     "name": "stdout",
     "output_type": "stream",
     "text": [
      "---\n"
     ]
    }
   ],
   "source": [
    "# create base 1-forms\n",
    "(x1, x2, x3), (dx1, dx2, dx3) = pc.setup_objects(3) ##"
   ]
  },
  {
   "cell_type": "markdown",
   "metadata": {},
   "source": [
    "### Wedge product and algebra"
   ]
  },
  {
   "cell_type": "markdown",
   "metadata": {},
   "source": [
    "Now we can build some basic wedge products"
   ]
  },
  {
   "cell_type": "code",
   "execution_count": 4,
   "metadata": {
    "collapsed": false
   },
   "outputs": [
    {
     "data": {
      "text/plain": [
       "dx1^dx2  := (1)dx1^dx2"
      ]
     },
     "metadata": {},
     "output_type": "display_data"
    },
    {
     "name": "stdout",
     "output_type": "stream",
     "text": [
      "___\n"
     ]
    },
    {
     "data": {
      "text/plain": [
       "dx2^dx1  := (-1)dx1^dx2"
      ]
     },
     "metadata": {},
     "output_type": "display_data"
    },
    {
     "name": "stdout",
     "output_type": "stream",
     "text": [
      "___\n"
     ]
    },
    {
     "data": {
      "text/plain": [
       "dx1^dx1  := (0)dx1^dx2"
      ]
     },
     "metadata": {},
     "output_type": "display_data"
    },
    {
     "name": "stdout",
     "output_type": "stream",
     "text": [
      "___\n"
     ]
    },
    {
     "data": {
      "text/plain": [
       "dx2^dx2  := (0)dx1^dx2"
      ]
     },
     "metadata": {},
     "output_type": "display_data"
    },
    {
     "name": "stdout",
     "output_type": "stream",
     "text": [
      "___\n"
     ]
    },
    {
     "data": {
      "text/plain": [
       "dx2^dx1^dx3  := (-1)dx1^dx2^dx3"
      ]
     },
     "metadata": {},
     "output_type": "display_data"
    },
    {
     "name": "stdout",
     "output_type": "stream",
     "text": [
      "___\n"
     ]
    }
   ],
   "source": [
    "dx1^dx2 ##:\n",
    "dx2^dx1 ##:\n",
    "dx1^dx1 ##:\n",
    "dx2^dx2 ##:\n",
    "dx2^dx1^dx3 ##:"
   ]
  },
  {
   "cell_type": "code",
   "execution_count": 5,
   "metadata": {
    "collapsed": false
   },
   "outputs": [
    {
     "data": {
      "text/plain": [
       "dx2^dx1^dx3^dx3  := (0)dx1^dx1^dx1^dx1"
      ]
     },
     "metadata": {},
     "output_type": "display_data"
    },
    {
     "name": "stdout",
     "output_type": "stream",
     "text": [
      "___\n"
     ]
    }
   ],
   "source": [
    "# a 4-form in 3 variables is always zero\n",
    "# it is displayed in the follwing way\n",
    "\n",
    "dx2^dx1^dx3^dx3 ##:"
   ]
  },
  {
   "cell_type": "markdown",
   "metadata": {},
   "source": [
    "Roughly speaking, for fixed $k$ differential $k$-forms can be regarded as a module over the ring of scalar functions. Therefore we can perform the following algebraic operations."
   ]
  },
  {
   "cell_type": "code",
   "execution_count": 6,
   "metadata": {
    "collapsed": false
   },
   "outputs": [
    {
     "data": {
      "text/plain": [
       "w1 := (x3)dx1  +  (x2**2*sin(x1))dx2"
      ]
     },
     "metadata": {},
     "output_type": "display_data"
    },
    {
     "name": "stdout",
     "output_type": "stream",
     "text": [
      "---\n"
     ]
    },
    {
     "data": {
      "text/plain": [
       "w2 := (cos(x1))dx1  +  (-5)dx2  +  (x3)dx3"
      ]
     },
     "metadata": {},
     "output_type": "display_data"
    },
    {
     "name": "stdout",
     "output_type": "stream",
     "text": [
      "---\n"
     ]
    },
    {
     "data": {
      "text/plain": [
       "w1^w2  := (-x2**2*sin(x1)*cos(x1) - 5*x3)dx1^dx2  +  (x3**2)dx1^dx3  +  (x2**2*x3*sin(x1))dx2^dx3"
      ]
     },
     "metadata": {},
     "output_type": "display_data"
    },
    {
     "name": "stdout",
     "output_type": "stream",
     "text": [
      "___\n"
     ]
    }
   ],
   "source": [
    "w1 = x3*dx1 + x2**2*sin(x1)*dx2 ##:\n",
    "w2 = cos(x1)*dx1 - 5*dx2 + x3*dx3 ##:\n",
    "w1^w2 ##:"
   ]
  },
  {
   "cell_type": "markdown",
   "metadata": {},
   "source": [
    "---"
   ]
  },
  {
   "cell_type": "markdown",
   "metadata": {},
   "source": [
    "**Caveat:** In python the `^`-operator (which is overloaded to perform the wedge product) originally means bitwise XOR and has lower precedence than the addition operators `+` and `-`, see the [python reference](https://docs.python.org/3/reference/expressions.html#operator-precedence).\n",
    "This leads to the following unintuitive results:"
   ]
  },
  {
   "cell_type": "code",
   "execution_count": 7,
   "metadata": {
    "collapsed": false
   },
   "outputs": [
    {
     "data": {
      "text/plain": [
       "(2)dx1^dx2^dx3"
      ]
     },
     "execution_count": 7,
     "metadata": {},
     "output_type": "execute_result"
    }
   ],
   "source": [
    "dx1^dx2 + dx2^dx3"
   ]
  },
  {
   "cell_type": "code",
   "execution_count": 8,
   "metadata": {
    "collapsed": false
   },
   "outputs": [
    {
     "data": {
      "text/plain": [
       "(2)dx1^dx2^dx3"
      ]
     },
     "execution_count": 8,
     "metadata": {},
     "output_type": "execute_result"
    }
   ],
   "source": [
    "# what python actually does:\n",
    "dx1^(dx2 + dx2)^dx3"
   ]
  },
  {
   "cell_type": "markdown",
   "metadata": {},
   "source": [
    "There are two ways to overcome this problem: brackets or using `*` not only for scalar multiplication but also for the wedge product."
   ]
  },
  {
   "cell_type": "code",
   "execution_count": 9,
   "metadata": {
    "collapsed": false
   },
   "outputs": [
    {
     "data": {
      "text/plain": [
       "(dx1^dx2) + (dx2^dx3)  := (1)dx1^dx2  +  (1)dx2^dx3"
      ]
     },
     "metadata": {},
     "output_type": "display_data"
    },
    {
     "name": "stdout",
     "output_type": "stream",
     "text": [
      "___\n"
     ]
    },
    {
     "data": {
      "text/plain": [
       "dx1*dx2 + dx2*dx3  := (1)dx1^dx2  +  (1)dx2^dx3"
      ]
     },
     "metadata": {},
     "output_type": "display_data"
    },
    {
     "name": "stdout",
     "output_type": "stream",
     "text": [
      "___\n"
     ]
    }
   ],
   "source": [
    "(dx1^dx2) + (dx2^dx3) ##:\n",
    "dx1*dx2 + dx2*dx3 ##:"
   ]
  },
  {
   "cell_type": "markdown",
   "metadata": {},
   "source": [
    "---\n",
    "\n",
    "### Hodge star\n",
    "\n",
    "Background: Let $\\omega$ be a $k$-form over the $n$-dimensional vectors space $V$ and let $g(\\cdot, \\cdot)$ be the scalar product associate with $V$. The Hodge-star-operator maps a $k$-form $\\omega$ to a special $(n-k)$-form denoted by $*\\omega$ which for every $(n-k)$-form $\\eta$ has the property: $\\omega \\wedge \\eta = g(*\\omega, \\eta)\\,\\d x_1 \\wg \\ldots \\wg \\d x_n$. \n",
    "\n",
    "Source: Chapter 1, in Agricola, Friedrich: Global Analysis -Differential Forms in Analysis, Geometry and Physics\n",
    "\n",
    "See also: https://en.wikipedia.org/wiki/Hodge_isomorphism (slightly less general definition, because for the scalar product index $q=0$ is silently assumed.)\n",
    "\n",
    "**Implementation status and examples**:\n",
    "\n",
    "A DiffenrentialForm-object Pycartan has the method `.hodge_star()`, which assumes that the scalar product $g$ is given by the identity matrix. The following examples from [Wikipedia](https://en.wikipedia.org/wiki/Hodge_isomorphism#Three_dimensions) can be reproduced:"
   ]
  },
  {
   "cell_type": "code",
   "execution_count": 10,
   "metadata": {
    "collapsed": false
   },
   "outputs": [
    {
     "data": {
      "text/plain": [
       "dx1.hodge_star()  := (1)dx2^dx3"
      ]
     },
     "metadata": {},
     "output_type": "display_data"
    },
    {
     "name": "stdout",
     "output_type": "stream",
     "text": [
      "___\n"
     ]
    },
    {
     "data": {
      "text/plain": [
       "dx2.hodge_star()  := (-1)dx1^dx3"
      ]
     },
     "metadata": {},
     "output_type": "display_data"
    },
    {
     "name": "stdout",
     "output_type": "stream",
     "text": [
      "___\n"
     ]
    },
    {
     "data": {
      "text/plain": [
       "dx3.hodge_star()  := (1)dx1^dx2"
      ]
     },
     "metadata": {},
     "output_type": "display_data"
    },
    {
     "name": "stdout",
     "output_type": "stream",
     "text": [
      "___\n"
     ]
    }
   ],
   "source": [
    "dx1.hodge_star() ##:\n",
    "dx2.hodge_star() ##:\n",
    "dx3.hodge_star() ##:"
   ]
  },
  {
   "cell_type": "markdown",
   "metadata": {},
   "source": [
    "---\n",
    "\n",
    "### Exterior derivative\n",
    "\n",
    "A very important operation associated with differential forms is to calculate the exterior derivative (or differential) $\\mathrm d \\omega$ of a $k$-form $\\omega$:"
   ]
  },
  {
   "cell_type": "code",
   "execution_count": 11,
   "metadata": {
    "collapsed": false
   },
   "outputs": [
    {
     "data": {
      "text/plain": [
       "w1  := (x3)dx1  +  (x2**2*sin(x1))dx2"
      ]
     },
     "metadata": {},
     "output_type": "display_data"
    },
    {
     "name": "stdout",
     "output_type": "stream",
     "text": [
      "___\n"
     ]
    },
    {
     "data": {
      "text/plain": [
       "w2  := (cos(x1))dx1  +  (-5)dx2  +  (x3)dx3"
      ]
     },
     "metadata": {},
     "output_type": "display_data"
    },
    {
     "name": "stdout",
     "output_type": "stream",
     "text": [
      "___\n"
     ]
    },
    {
     "data": {
      "text/plain": [
       "w2.d  := (0)dx1^dx2"
      ]
     },
     "metadata": {},
     "output_type": "display_data"
    },
    {
     "name": "stdout",
     "output_type": "stream",
     "text": [
      "___\n"
     ]
    }
   ],
   "source": [
    "w1 ##:\n",
    "w1.d\n",
    "\n",
    "w2 ##:\n",
    "w2.d ##:"
   ]
  },
  {
   "cell_type": "markdown",
   "metadata": {},
   "source": [
    "*Hint:* This syntax is implemented using the property mechanism of python which performs a function call under the hood. The result is a 'ordinary' $k+1$-form which can be used in further calculations:"
   ]
  },
  {
   "cell_type": "code",
   "execution_count": 12,
   "metadata": {
    "collapsed": false
   },
   "outputs": [
    {
     "data": {
      "text/plain": [
       "w1.d^w1  := (x2**2*sin(x1))dx1^dx2^dx3"
      ]
     },
     "metadata": {},
     "output_type": "display_data"
    },
    {
     "name": "stdout",
     "output_type": "stream",
     "text": [
      "___\n"
     ]
    },
    {
     "data": {
      "text/plain": [
       "(-x2**2*sin(x1)*cos(x1) + x2**2*cos(x1) - 5*x3)dx1^dx2  +  (x3**2 - 1)dx1^dx3  +  (x2**2*x3*sin(x1))dx2^dx3"
      ]
     },
     "execution_count": 12,
     "metadata": {},
     "output_type": "execute_result"
    }
   ],
   "source": [
    "w1.d^w1 ##:\n",
    "w1.d + w1*w2"
   ]
  },
  {
   "cell_type": "markdown",
   "metadata": {},
   "source": [
    "To calculate the differential of a 0-form (i.e., a scalar function) the basis variables have to be passed:"
   ]
  },
  {
   "cell_type": "code",
   "execution_count": 13,
   "metadata": {
    "collapsed": false
   },
   "outputs": [
    {
     "data": {
      "text/plain": [
       "df := (x2*cos(x1))dx1  +  (sin(x1))dx2"
      ]
     },
     "metadata": {},
     "output_type": "display_data"
    },
    {
     "name": "stdout",
     "output_type": "stream",
     "text": [
      "---\n"
     ]
    }
   ],
   "source": [
    "f = x2*sin(x1)\n",
    "df = pc.d(f, [x1, x2, x3]) ##:"
   ]
  },
  {
   "cell_type": "markdown",
   "metadata": {},
   "source": [
    "Of course we have $\\d \\circ \\d f = 0$ :"
   ]
  },
  {
   "cell_type": "code",
   "execution_count": 14,
   "metadata": {
    "collapsed": false
   },
   "outputs": [
    {
     "data": {
      "text/plain": [
       "(0)dx1^dx2"
      ]
     },
     "execution_count": 14,
     "metadata": {},
     "output_type": "execute_result"
    }
   ],
   "source": [
    "df.d"
   ]
  },
  {
   "cell_type": "markdown",
   "metadata": {},
   "source": [
    "Due to the Lemma of Poincaré, if $\\d \\omega = 0$ it is possible to calculate $\\eta$ such that $\\omega = \\d \\eta$. This is done by:"
   ]
  },
  {
   "cell_type": "code",
   "execution_count": 15,
   "metadata": {
    "collapsed": false
   },
   "outputs": [
    {
     "data": {
      "text/plain": [
       "df.integrate()  := x2*sin(x1)"
      ]
     },
     "metadata": {},
     "output_type": "display_data"
    },
    {
     "name": "stdout",
     "output_type": "stream",
     "text": [
      "___\n"
     ]
    },
    {
     "data": {
      "text/plain": [
       "w2  := (cos(x1))dx1  +  (-5)dx2  +  (x3)dx3"
      ]
     },
     "metadata": {},
     "output_type": "display_data"
    },
    {
     "name": "stdout",
     "output_type": "stream",
     "text": [
      "___\n"
     ]
    },
    {
     "data": {
      "text/plain": [
       "w2.d  := (0)dx1^dx2"
      ]
     },
     "metadata": {},
     "output_type": "display_data"
    },
    {
     "name": "stdout",
     "output_type": "stream",
     "text": [
      "___\n"
     ]
    },
    {
     "data": {
      "text/plain": [
       "w2.integrate()  := -5*x2 + x3**2/2 + sin(x1)"
      ]
     },
     "metadata": {},
     "output_type": "display_data"
    },
    {
     "name": "stdout",
     "output_type": "stream",
     "text": [
      "___\n"
     ]
    }
   ],
   "source": [
    "df.integrate() ##:\n",
    "\n",
    "w2 ##:\n",
    "w2.d ##:\n",
    "w2.integrate() ##:"
   ]
  },
  {
   "cell_type": "markdown",
   "metadata": {},
   "source": [
    "*Note:* Integration is currentliy only implemented for 1-forms."
   ]
  },
  {
   "cell_type": "markdown",
   "metadata": {},
   "source": [
    "### Derived flag\n",
    "\n",
    "An important algebraic construction is the so called 'derived flag'. A derived flag can be easily calculated with pycartan. However the documentation for that has still to be written"
   ]
  },
  {
   "cell_type": "markdown",
   "metadata": {},
   "source": [
    "### Vector differential forms\n",
    "\n",
    "With pycartan it es possible to work with Vector Forms. For now, see the code for (kind of) documentation or feel welcome to ask the authors"
   ]
  }
 ],
 "metadata": {
  "kernelspec": {
   "display_name": "Python 3",
   "language": "python",
   "name": "python3"
  },
  "language_info": {
   "codemirror_mode": {
    "name": "ipython",
    "version": 3
   },
   "file_extension": ".py",
   "mimetype": "text/x-python",
   "name": "python",
   "nbconvert_exporter": "python",
   "pygments_lexer": "ipython3",
   "version": "3.4.2"
  }
 },
 "nbformat": 4,
 "nbformat_minor": 1
}
