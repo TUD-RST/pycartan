{
 "metadata": {
  "name": "",
  "signature": "sha256:b0718657ad0bb018a772b94804b8298c3258827c35b0c20b4643d5e47c305d99"
 },
 "nbformat": 3,
 "nbformat_minor": 0,
 "worksheets": [
  {
   "cells": [
    {
     "cell_type": "code",
     "collapsed": false,
     "input": [
      "import time\n",
      "print time.ctime()"
     ],
     "language": "python",
     "metadata": {},
     "outputs": [
      {
       "output_type": "stream",
       "stream": "stdout",
       "text": [
        "Mon Jul 11 10:43:40 2016\n"
       ]
      }
     ],
     "prompt_number": 1
    },
    {
     "cell_type": "markdown",
     "metadata": {},
     "source": [
      "This notebook illustrates the usage of `pycartan`  a python package built on top of sympy to facilitate calculations  with differential forms, especially in the field of control theory. Currently, this is the only documentation. For further questions either the source code or the authors should be consulted.\n",
      "\n",
      "\n",
      "$$\n",
      "\\newcommand{\\d}{\\mathrm{d}}\n",
      "$$"
     ]
    },
    {
     "cell_type": "code",
     "collapsed": false,
     "input": [
      "import pycartan as pc\n",
      "import sympy as sp\n",
      "from sympy import sin, cos, exp\n",
      "\n",
      "# ipython extension to display the content of assignments (saves typing effort and redundancy)\n",
      "# triggered by special comment ##, see https://github.com/cknoll/displaytools\n",
      "%load_ext displaytools"
     ],
     "language": "python",
     "metadata": {},
     "outputs": [
      {
       "output_type": "stream",
       "stream": "stdout",
       "text": [
        "The displaytools extension is already loaded. To reload it, use:\n",
        "  %reload_ext displaytools\n"
       ]
      }
     ],
     "prompt_number": 22
    },
    {
     "cell_type": "markdown",
     "metadata": {},
     "source": [
      "First, some differential forms must be created"
     ]
    },
    {
     "cell_type": "code",
     "collapsed": false,
     "input": [
      "# create base 1-forms\n",
      "(x1, x2, x3), (dx1, dx2, dx3) = pc.setup_objects(3) ##"
     ],
     "language": "python",
     "metadata": {},
     "outputs": [
      {
       "metadata": {},
       "output_type": "display_data",
       "text": [
        "(x1, x2, x3)"
       ]
      },
      {
       "metadata": {},
       "output_type": "display_data",
       "text": [
        "((1)dx1, (1)dx2, (1)dx3)"
       ]
      },
      {
       "output_type": "stream",
       "stream": "stdout",
       "text": [
        "---\n"
       ]
      }
     ],
     "prompt_number": 10
    },
    {
     "cell_type": "markdown",
     "metadata": {},
     "source": [
      "### Wedge product and algebra"
     ]
    },
    {
     "cell_type": "markdown",
     "metadata": {},
     "source": [
      "Now we can build some basic wedge products"
     ]
    },
    {
     "cell_type": "code",
     "collapsed": false,
     "input": [
      "dx1^dx2 ##:\n",
      "dx2^dx1 ##:\n",
      "dx1^dx1 ##:\n",
      "dx2^dx2 ##:\n",
      "dx2^dx1^dx3 ##:"
     ],
     "language": "python",
     "metadata": {},
     "outputs": [
      {
       "metadata": {},
       "output_type": "display_data",
       "text": [
        "dx1^dx2  := (1)dx1^dx2"
       ]
      },
      {
       "output_type": "stream",
       "stream": "stdout",
       "text": [
        "___\n"
       ]
      },
      {
       "metadata": {},
       "output_type": "display_data",
       "text": [
        "dx2^dx1  := (-1)dx1^dx2"
       ]
      },
      {
       "output_type": "stream",
       "stream": "stdout",
       "text": [
        "___\n"
       ]
      },
      {
       "metadata": {},
       "output_type": "display_data",
       "text": [
        "dx1^dx1  := (0)dx1^dx2"
       ]
      },
      {
       "output_type": "stream",
       "stream": "stdout",
       "text": [
        "___\n"
       ]
      },
      {
       "metadata": {},
       "output_type": "display_data",
       "text": [
        "dx2^dx2  := (0)dx1^dx2"
       ]
      },
      {
       "output_type": "stream",
       "stream": "stdout",
       "text": [
        "___\n"
       ]
      },
      {
       "metadata": {},
       "output_type": "display_data",
       "text": [
        "dx2^dx1^dx3  := (-1)dx1^dx2^dx3"
       ]
      },
      {
       "output_type": "stream",
       "stream": "stdout",
       "text": [
        "___\n"
       ]
      }
     ],
     "prompt_number": 21
    },
    {
     "cell_type": "code",
     "collapsed": false,
     "input": [
      "# a 4-form in 3 variables should is always zero\n",
      "# it is displayed in the follwing way\n",
      "\n",
      "dx2^dx1^dx3^dx3 ##:"
     ],
     "language": "python",
     "metadata": {},
     "outputs": [
      {
       "metadata": {},
       "output_type": "display_data",
       "text": [
        "dx2^dx1^dx3^dx3  := (0)dx1^dx1^dx1^dx1"
       ]
      },
      {
       "output_type": "stream",
       "stream": "stdout",
       "text": [
        "___\n"
       ]
      }
     ],
     "prompt_number": 20
    },
    {
     "cell_type": "markdown",
     "metadata": {},
     "source": [
      "Roughly speaking, for fixed $k$ differential $k$-forms can be regarded as a module over the ring of scalar functions. Therefore we can perform the following algebraic operations."
     ]
    },
    {
     "cell_type": "code",
     "collapsed": false,
     "input": [
      "w1 = x3*dx1 + x2**2*sin(x1)*dx2 ##:\n",
      "w2 = cos(x1)*dx1 - 5*dx2 + x3*dx3 ##:\n",
      "w1^w2 ##:"
     ],
     "language": "python",
     "metadata": {},
     "outputs": [
      {
       "metadata": {},
       "output_type": "display_data",
       "text": [
        "w1 := (x3)dx1  +  (x2**2*sin(x1))dx2"
       ]
      },
      {
       "output_type": "stream",
       "stream": "stdout",
       "text": [
        "---\n"
       ]
      },
      {
       "metadata": {},
       "output_type": "display_data",
       "text": [
        "w2 := (cos(x1))dx1  +  (-5)dx2  +  (x3)dx3"
       ]
      },
      {
       "output_type": "stream",
       "stream": "stdout",
       "text": [
        "---\n"
       ]
      },
      {
       "metadata": {},
       "output_type": "display_data",
       "text": [
        "w1^w2  := (-x2**2*sin(x1)*cos(x1) - 5*x3)dx1^dx2  +  (x3**2)dx1^dx3  +  (x2**2*x3*sin(x1))dx2^dx3"
       ]
      },
      {
       "output_type": "stream",
       "stream": "stdout",
       "text": [
        "___\n"
       ]
      }
     ],
     "prompt_number": 28
    },
    {
     "cell_type": "markdown",
     "metadata": {},
     "source": [
      "---"
     ]
    },
    {
     "cell_type": "markdown",
     "metadata": {},
     "source": [
      "**Caveat:** In python the `^`-operator (which is overloaded to perform the wedge product) originally means bitwise XOR and has lower precedence than the addition operators `+` and `-`, see the [python reference](https://docs.python.org/3/reference/expressions.html#operator-precedence).\n",
      "This leads to the following unintuitive results:"
     ]
    },
    {
     "cell_type": "code",
     "collapsed": false,
     "input": [
      "dx1^dx2 + dx2^dx3"
     ],
     "language": "python",
     "metadata": {},
     "outputs": [
      {
       "metadata": {},
       "output_type": "pyout",
       "prompt_number": 30,
       "text": [
        "(2)dx1^dx2^dx3"
       ]
      }
     ],
     "prompt_number": 30
    },
    {
     "cell_type": "code",
     "collapsed": false,
     "input": [
      "# what python actually does:\n",
      "dx1^(dx2 + dx2)^dx3"
     ],
     "language": "python",
     "metadata": {},
     "outputs": [
      {
       "metadata": {},
       "output_type": "pyout",
       "prompt_number": 31,
       "text": [
        "(2)dx1^dx2^dx3"
       ]
      }
     ],
     "prompt_number": 31
    },
    {
     "cell_type": "markdown",
     "metadata": {},
     "source": [
      "There are two ways to overcome this problem: brackets or using `*` also for the wedge product."
     ]
    },
    {
     "cell_type": "code",
     "collapsed": false,
     "input": [
      "(dx1^dx2) + (dx2^dx3) ##:\n",
      "dx1*dx2 + dx2*dx3 ##:"
     ],
     "language": "python",
     "metadata": {},
     "outputs": [
      {
       "metadata": {},
       "output_type": "display_data",
       "text": [
        "(dx1^dx2) + (dx2^dx3)  := (1)dx1^dx2  +  (1)dx2^dx3"
       ]
      },
      {
       "output_type": "stream",
       "stream": "stdout",
       "text": [
        "___\n"
       ]
      },
      {
       "metadata": {},
       "output_type": "display_data",
       "text": [
        "dx1*dx2 + dx2*dx3  := (1)dx1^dx2  +  (1)dx2^dx3"
       ]
      },
      {
       "output_type": "stream",
       "stream": "stdout",
       "text": [
        "___\n"
       ]
      }
     ],
     "prompt_number": 33
    },
    {
     "cell_type": "markdown",
     "metadata": {},
     "source": [
      "---\n",
      "\n",
      "### Exterior derivative\n",
      "\n",
      "A very important operation associated with differential forms is to calculate the exterior derivative (or differential) $\\mathrm d \\omega$ of a $k$-form $\\omega$:"
     ]
    },
    {
     "cell_type": "code",
     "collapsed": false,
     "input": [
      "w1 ##:\n",
      "w1.d\n",
      "\n",
      "w2 ##:\n",
      "w2.d ##:"
     ],
     "language": "python",
     "metadata": {},
     "outputs": [
      {
       "metadata": {},
       "output_type": "display_data",
       "text": [
        "w1  := (x3)dx1  +  (x2**2*sin(x1))dx2"
       ]
      },
      {
       "output_type": "stream",
       "stream": "stdout",
       "text": [
        "___\n"
       ]
      },
      {
       "metadata": {},
       "output_type": "display_data",
       "text": [
        "w2  := (cos(x1))dx1  +  (-5)dx2  +  (x3)dx3"
       ]
      },
      {
       "output_type": "stream",
       "stream": "stdout",
       "text": [
        "___\n"
       ]
      },
      {
       "metadata": {},
       "output_type": "display_data",
       "text": [
        "w2.d  := (0)dx1^dx2"
       ]
      },
      {
       "output_type": "stream",
       "stream": "stdout",
       "text": [
        "___\n"
       ]
      }
     ],
     "prompt_number": 41
    },
    {
     "cell_type": "markdown",
     "metadata": {},
     "source": [
      "*Hint:* This syntax is implemented using the property mechanism of python which performs a function call under the hood. The result is a 'ordinary' $k+1$-form which can be used in further calculations:"
     ]
    },
    {
     "cell_type": "code",
     "collapsed": false,
     "input": [
      "w1.d^w1 ##:\n",
      "w1.d + w1*w2"
     ],
     "language": "python",
     "metadata": {},
     "outputs": [
      {
       "metadata": {},
       "output_type": "display_data",
       "text": [
        "w1.d^w1  := (x2**2*sin(x1))dx1^dx2^dx3"
       ]
      },
      {
       "output_type": "stream",
       "stream": "stdout",
       "text": [
        "___\n"
       ]
      },
      {
       "metadata": {},
       "output_type": "pyout",
       "prompt_number": 43,
       "text": [
        "(-x2**2*sin(x1)*cos(x1) + x2**2*cos(x1) - 5*x3)dx1^dx2  +  (x3**2 - 1)dx1^dx3  +  (x2**2*x3*sin(x1))dx2^dx3"
       ]
      }
     ],
     "prompt_number": 43
    },
    {
     "cell_type": "markdown",
     "metadata": {},
     "source": [
      "To calculate the differential of a 0-form (i.e., a scalar function) the basis variables have to be passed:"
     ]
    },
    {
     "cell_type": "code",
     "collapsed": false,
     "input": [
      "f = x2*sin(x1)\n",
      "df = pc.d(f, [x1, x2, x3]) ##:"
     ],
     "language": "python",
     "metadata": {},
     "outputs": [
      {
       "metadata": {},
       "output_type": "display_data",
       "text": [
        "df := (x2*cos(x1))dx1  +  (sin(x1))dx2"
       ]
      },
      {
       "output_type": "stream",
       "stream": "stdout",
       "text": [
        "---\n"
       ]
      }
     ],
     "prompt_number": 46
    },
    {
     "cell_type": "markdown",
     "metadata": {},
     "source": [
      "Of course we have $\\d \\circ \\d f = 0$ :"
     ]
    },
    {
     "cell_type": "code",
     "collapsed": false,
     "input": [
      "df.d"
     ],
     "language": "python",
     "metadata": {},
     "outputs": [
      {
       "metadata": {},
       "output_type": "pyout",
       "prompt_number": 47,
       "text": [
        "(0)dx1^dx2"
       ]
      }
     ],
     "prompt_number": 47
    },
    {
     "cell_type": "markdown",
     "metadata": {},
     "source": [
      "Due to the lemma of poincar\u00e9, if $\\d \\omega = 0$ it is possible to calculate $\\eta$ such that $\\omega = \\d \\eta$. This is done by:"
     ]
    },
    {
     "cell_type": "code",
     "collapsed": false,
     "input": [
      "df.integrate() ##:\n",
      "\n",
      "w2 ##:\n",
      "w2.d ##:\n",
      "w2.integrate() ##:"
     ],
     "language": "python",
     "metadata": {},
     "outputs": [
      {
       "metadata": {},
       "output_type": "display_data",
       "text": [
        "df.integrate()  := x2*sin(x1)"
       ]
      },
      {
       "output_type": "stream",
       "stream": "stdout",
       "text": [
        "___\n"
       ]
      },
      {
       "metadata": {},
       "output_type": "display_data",
       "text": [
        "w2  := (cos(x1))dx1  +  (-5)dx2  +  (x3)dx3"
       ]
      },
      {
       "output_type": "stream",
       "stream": "stdout",
       "text": [
        "___\n"
       ]
      },
      {
       "metadata": {},
       "output_type": "display_data",
       "text": [
        "w2.d  := (0)dx1^dx2"
       ]
      },
      {
       "output_type": "stream",
       "stream": "stdout",
       "text": [
        "___\n"
       ]
      },
      {
       "metadata": {},
       "output_type": "display_data",
       "text": [
        "w2.integrate()  := -5*x2 + x3**2/2 + sin(x1)"
       ]
      },
      {
       "output_type": "stream",
       "stream": "stdout",
       "text": [
        "___\n"
       ]
      }
     ],
     "prompt_number": 51
    },
    {
     "cell_type": "markdown",
     "metadata": {},
     "source": [
      "*Note:* Integration is currentliy only implemented for 1-forms."
     ]
    },
    {
     "cell_type": "markdown",
     "metadata": {},
     "source": [
      "### Derived flag\n",
      "\n",
      "An important algebraic construction is the so called 'derived flag'. I can be seen as the dual approach to successivly "
     ]
    },
    {
     "cell_type": "code",
     "collapsed": false,
     "input": [],
     "language": "python",
     "metadata": {},
     "outputs": []
    }
   ],
   "metadata": {}
  }
 ]
}