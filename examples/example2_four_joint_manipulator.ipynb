{
 "cells": [
  {
   "cell_type": "markdown",
   "metadata": {},
   "source": [
    "This IPython-Notebook serves as an illustration for the conference paper\n",
    "\n",
    "*\"Criterion for the existence of a separated coordinate representation for underactuated mechanical systems\"* \n",
    "\n",
    "submitted to \"IEEE 2019 International Conference on Mechatronics\"\n",
    "\n",
    "---\n",
    "\n",
    "The source code depends on the following modules:\n",
    "\n",
    "* [`symbtools`](https://github.com/TUD-RST/symbtools) \n",
    "  (Basic functionality for symbolic calculations w.r.t control theory)\n",
    "    \n",
    "* [`pycartan`](https://github.com/TUD-RST/pycartan)\n",
    "  (Fucntionality for calculations with differential forms)\n",
    "\n",
    "* [`ipydex`](https://github.com/cknoll/ipydex)\n",
    " (Contains the `displaytools`-jupyter-notebook-extension. This enables \"magic\" comments (e.g. `##:`) which achieve the diplay of the result of an assignment.)\n"
   ]
  },
  {
   "cell_type": "markdown",
   "metadata": {},
   "source": [
    "[//]: # (custom_config_start)\n",
    "$$\n",
    "\\newcommand{\\col}{\\mathrm{col}}\n",
    "\\newcommand{\\opspan}{\\operatorname{span}}\n",
    "\\newcommand{\\bs}{\\boldsymbol}\n",
    "\\newcommand{\\mb}{\\mathbf}\n",
    "\\newcommand{\\nx}{n_{\\boldsymbol x}}\n",
    "\\newcommand{\\Ddt}{\\left(\\tfrac{d}{dt}\\right)}\n",
    "$$\n",
    "\n",
    "\n",
    "$$\n",
    "\\newcommand{\\r}{\\mathbf{r}}\n",
    "\\newcommand{\\F}{\\mathbf{F}}\n",
    "\\newcommand{\\h}{\\mathbf{h}}\n",
    "\\newcommand{\\eps}{\\varepsilon}\n",
    "%\n",
    "\\newcommand{\\B}{\\mathbf{B}}\n",
    "\\newcommand{\\M}{\\mathbf{M}}\n",
    "\\newcommand{\\C}{\\mathbf{C}}\n",
    "\\newcommand{\\K}{\\mathbf{K}}\n",
    "\\newcommand{\\btheta}{\\boldsymbol{\\theta}}\n",
    "\\newcommand{\\btau}{\\boldsymbol{\\tau}}\n",
    "$$\n",
    "\n",
    "[//]: # (custom_config_end)\n",
    "\n",
    "**Considered System**: Underactuated four-joint-manipulator with passive joints and forces at the endeffetor regarded as the systems's input .<br>\n",
    "\n",
    "<img src=\"files/images/manipulator4j.png\">\n",
    "\n",
    "**Considered tasks**:\n",
    "* Generation of equations of motion\n",
    "* Check of the criterion for the existence of a separated coordinate representation"
   ]
  },
  {
   "cell_type": "code",
   "execution_count": 1,
   "metadata": {},
   "outputs": [],
   "source": [
    "%load_ext ipydex.displaytools\n",
    "\n",
    "import sympy as sp\n",
    "from sympy import sin, cos, pi\n",
    "from sympy.interactive import printing\n",
    "import symbtools as st\n",
    "import symbtools.modeltools as mt\n",
    "from symbtools.modeltools import Rz # rotation matrix\n",
    "\n",
    "\n",
    "printing.init_printing(1)"
   ]
  },
  {
   "cell_type": "code",
   "execution_count": 2,
   "metadata": {},
   "outputs": [
    {
     "data": {
      "image/png": "[encoded data removed]",
      "text/latex": [
       "$$\\verb|ttheta.T| := \\left[\\begin{matrix}p_{1} & p_{2} & p_{3} & p_{4}\\end{matrix}\\right]$$"
      ],
      "text/plain": [
       "ttheta.T := [p₁  p₂  p₃  p₄]"
      ]
     },
     "metadata": {},
     "output_type": "display_data"
    },
    {
     "name": "stdout",
     "output_type": "stream",
     "text": [
      "---\n"
     ]
    },
    {
     "data": {
      "image/png": "[encoded data removed]",
      "text/latex": [
       "$$\\verb|tthetad.T| := \\left[\\begin{matrix}\\dot{p}_{1} & \\dot{p}_{2} & \\dot{p}_{3} & \\dot{p}_{4}\\end{matrix}\\right]$$"
      ],
      "text/plain": [
       "tthetad.T := [ṗ₁  ṗ₂  ṗ₃  ṗ₄]"
      ]
     },
     "metadata": {},
     "output_type": "display_data"
    },
    {
     "name": "stdout",
     "output_type": "stream",
     "text": [
      "---\n"
     ]
    },
    {
     "data": {
      "image/png": "[encoded data removed]",
      "text/latex": [
       "$$\\verb|tthetadd.T| := \\left[\\begin{matrix}\\ddot{p}_{1} & \\ddot{p}_{2} & \\ddot{p}_{3} & \\ddot{p}_{4}\\end{matrix}\\right]$$"
      ],
      "text/plain": [
       "tthetadd.T := [p̈₁  p̈₂  p̈₃  p̈₄]"
      ]
     },
     "metadata": {},
     "output_type": "display_data"
    },
    {
     "name": "stdout",
     "output_type": "stream",
     "text": [
      "---\n"
     ]
    }
   ],
   "source": [
    "t = sp.Symbol('t')\n",
    "np = 4\n",
    "nq = 0\n",
    "n = np + nq\n",
    "pp = st.symb_vector(\"p1:{0}\".format(np+1))\n",
    "qq = st.symb_vector(\"q1:{0}\".format(nq+1))\n",
    "\n",
    "\n",
    "aa = st.symb_vector(\"a1:{0}\".format(nq+1))\n",
    "\n",
    "ttheta = st.row_stack(pp, qq) ##:T\n",
    "tthetad = st.time_deriv(ttheta, ttheta) ##:T\n",
    "tthetadd = st.time_deriv(ttheta, ttheta, order=2) ##:T\n",
    "st.make_global(ttheta, tthetad)"
   ]
  },
  {
   "cell_type": "code",
   "execution_count": 3,
   "metadata": {},
   "outputs": [],
   "source": [
    "params = sp.symbols('s1, s2, s3, s4, m1, m2, m3, m4, J1, J2, J3, J4, l1, l2, l3, l4, kappa')\n",
    "st.make_global(params)\n",
    "\n",
    "\n",
    "# \n",
    "# QQ = st.symb_vector(\"Q1, Q2, Q3, Q4\")\n",
    "\n",
    "# forces at the end effector\n",
    "tau1, tau2 = ttau = st.symb_vector(\"tau1, tau2\")"
   ]
  },
  {
   "cell_type": "markdown",
   "metadata": {},
   "source": [
    "###  Geometry of the mechanical System"
   ]
  },
  {
   "cell_type": "code",
   "execution_count": 4,
   "metadata": {},
   "outputs": [
    {
     "data": {
      "image/png": "[encoded data removed]",
      "text/latex": [
       "$$\\left[\\begin{matrix}\\cos{\\left (p_{1} \\right )} & - \\sin{\\left (p_{1} \\right )}\\\\\\sin{\\left (p_{1} \\right )} & \\cos{\\left (p_{1} \\right )}\\end{matrix}\\right]$$"
      ],
      "text/plain": [
       "⎡cos(p₁)  -sin(p₁)⎤\n",
       "⎢                 ⎥\n",
       "⎣sin(p₁)  cos(p₁) ⎦"
      ]
     },
     "execution_count": 4,
     "metadata": {},
     "output_type": "execute_result"
    }
   ],
   "source": [
    "Rz(p1) # Rotationsmatirx"
   ]
  },
  {
   "cell_type": "code",
   "execution_count": 5,
   "metadata": {},
   "outputs": [
    {
     "data": {
      "image/png": "[encoded data removed]",
      "text/latex": [
       "$$\\left[\\begin{matrix}- \\dot{p}_{1} s_{1} \\sin{\\left (p_{1} \\right )}\\\\\\dot{p}_{1} s_{1} \\cos{\\left (p_{1} \\right )}\\end{matrix}\\right]$$"
      ],
      "text/plain": [
       "⎡-ṗ₁⋅s₁⋅sin(p₁)⎤\n",
       "⎢               ⎥\n",
       "⎣ṗ₁⋅s₁⋅cos(p₁) ⎦"
      ]
     },
     "metadata": {},
     "output_type": "display_data"
    },
    {
     "data": {
      "image/png": "[encoded data removed]",
      "text/latex": [
       "$$\\left[\\begin{matrix}- l_{1} \\dot{p}_{1} \\sin{\\left (p_{1} \\right )} - s_{2} \\left(\\dot{p}_{1} + \\dot{p}_{2}\\right) \\sin{\\left (p_{1} + p_{2} \\right )}\\\\l_{1} \\dot{p}_{1} \\cos{\\left (p_{1} \\right )} + s_{2} \\left(\\dot{p}_{1} + \\dot{p}_{2}\\right) \\cos{\\left (p_{1} + p_{2} \\right )}\\end{matrix}\\right]$$"
      ],
      "text/plain": [
       "⎡-l₁⋅ṗ₁⋅sin(p₁) - s₂⋅(ṗ₁ + ṗ₂)⋅sin(p₁ + p₂)⎤\n",
       "⎢                                             ⎥\n",
       "⎣l₁⋅ṗ₁⋅cos(p₁) + s₂⋅(ṗ₁ + ṗ₂)⋅cos(p₁ + p₂) ⎦"
      ]
     },
     "metadata": {},
     "output_type": "display_data"
    },
    {
     "data": {
      "image/png": "[encoded data removed]",
      "text/latex": [
       "$$\\left[\\begin{matrix}- l_{1} \\dot{p}_{1} \\sin{\\left (p_{1} \\right )} - l_{2} \\left(\\dot{p}_{1} + \\dot{p}_{2}\\right) \\sin{\\left (p_{1} + p_{2} \\right )} - s_{2} \\left(\\dot{p}_{1} + \\dot{p}_{2} + \\dot{p}_{3}\\right) \\sin{\\left (p_{1} + p_{2} + p_{3} \\right )}\\\\l_{1} \\dot{p}_{1} \\cos{\\left (p_{1} \\right )} + l_{2} \\left(\\dot{p}_{1} + \\dot{p}_{2}\\right) \\cos{\\left (p_{1} + p_{2} \\right )} + s_{2} \\left(\\dot{p}_{1} + \\dot{p}_{2} + \\dot{p}_{3}\\right) \\cos{\\left (p_{1} + p_{2} + p_{3} \\right )}\\end{matrix}\\right]$$"
      ],
      "text/plain": [
       "⎡-l₁⋅ṗ₁⋅sin(p₁) - l₂⋅(ṗ₁ + ṗ₂)⋅sin(p₁ + p₂) - s₂⋅(ṗ₁ + ṗ₂ + ṗ₃)⋅sin(p₁ +\n",
       "⎢                                                                             \n",
       "⎣l₁⋅ṗ₁⋅cos(p₁) + l₂⋅(ṗ₁ + ṗ₂)⋅cos(p₁ + p₂) + s₂⋅(ṗ₁ + ṗ₂ + ṗ₃)⋅cos(p₁ + \n",
       "\n",
       " p₂ + p₃)⎤\n",
       "         ⎥\n",
       "p₂ + p₃) ⎦"
      ]
     },
     "metadata": {},
     "output_type": "display_data"
    },
    {
     "data": {
      "image/png": "[encoded data removed]",
      "text/latex": [
       "$$\\left[\\begin{matrix}- l_{1} \\dot{p}_{1} \\sin{\\left (p_{1} \\right )} - l_{2} \\left(\\dot{p}_{1} + \\dot{p}_{2}\\right) \\sin{\\left (p_{1} + p_{2} \\right )} - l_{3} \\left(\\dot{p}_{1} + \\dot{p}_{2} + \\dot{p}_{3}\\right) \\sin{\\left (p_{1} + p_{2} + p_{3} \\right )} - s_{2} \\left(\\dot{p}_{1} + \\dot{p}_{2} + \\dot{p}_{3} + \\dot{p}_{4}\\right) \\sin{\\left (p_{1} + p_{2} + p_{3} + p_{4} \\right )}\\\\l_{1} \\dot{p}_{1} \\cos{\\left (p_{1} \\right )} + l_{2} \\left(\\dot{p}_{1} + \\dot{p}_{2}\\right) \\cos{\\left (p_{1} + p_{2} \\right )} + l_{3} \\left(\\dot{p}_{1} + \\dot{p}_{2} + \\dot{p}_{3}\\right) \\cos{\\left (p_{1} + p_{2} + p_{3} \\right )} + s_{2} \\left(\\dot{p}_{1} + \\dot{p}_{2} + \\dot{p}_{3} + \\dot{p}_{4}\\right) \\cos{\\left (p_{1} + p_{2} + p_{3} + p_{4} \\right )}\\end{matrix}\\right]$$"
      ],
      "text/plain": [
       "⎡-l₁⋅ṗ₁⋅sin(p₁) - l₂⋅(ṗ₁ + ṗ₂)⋅sin(p₁ + p₂) - l₃⋅(ṗ₁ + ṗ₂ + ṗ₃)⋅sin(p₁ +\n",
       "⎢                                                                             \n",
       "⎣l₁⋅ṗ₁⋅cos(p₁) + l₂⋅(ṗ₁ + ṗ₂)⋅cos(p₁ + p₂) + l₃⋅(ṗ₁ + ṗ₂ + ṗ₃)⋅cos(p₁ + \n",
       "\n",
       " p₂ + p₃) - s₂⋅(ṗ₁ + ṗ₂ + ṗ₃ + ṗ₄)⋅sin(p₁ + p₂ + p₃ + p₄)⎤\n",
       "                                                             ⎥\n",
       "p₂ + p₃) + s₂⋅(ṗ₁ + ṗ₂ + ṗ₃ + ṗ₄)⋅cos(p₁ + p₂ + p₃ + p₄) ⎦"
      ]
     },
     "metadata": {},
     "output_type": "display_data"
    },
    {
     "data": {
      "image/png": "[encoded data removed]",
      "text/latex": [
       "$$\\left[\\begin{matrix}- l_{1} \\dot{p}_{1} \\sin{\\left (p_{1} \\right )} - l_{2} \\left(\\dot{p}_{1} + \\dot{p}_{2}\\right) \\sin{\\left (p_{1} + p_{2} \\right )} - l_{3} \\left(\\dot{p}_{1} + \\dot{p}_{2} + \\dot{p}_{3}\\right) \\sin{\\left (p_{1} + p_{2} + p_{3} \\right )} - l_{4} \\left(\\dot{p}_{1} + \\dot{p}_{2} + \\dot{p}_{3} + \\dot{p}_{4}\\right) \\sin{\\left (p_{1} + p_{2} + p_{3} + p_{4} \\right )}\\\\l_{1} \\dot{p}_{1} \\cos{\\left (p_{1} \\right )} + l_{2} \\left(\\dot{p}_{1} + \\dot{p}_{2}\\right) \\cos{\\left (p_{1} + p_{2} \\right )} + l_{3} \\left(\\dot{p}_{1} + \\dot{p}_{2} + \\dot{p}_{3}\\right) \\cos{\\left (p_{1} + p_{2} + p_{3} \\right )} + l_{4} \\left(\\dot{p}_{1} + \\dot{p}_{2} + \\dot{p}_{3} + \\dot{p}_{4}\\right) \\cos{\\left (p_{1} + p_{2} + p_{3} + p_{4} \\right )}\\end{matrix}\\right]$$"
      ],
      "text/plain": [
       "⎡-l₁⋅ṗ₁⋅sin(p₁) - l₂⋅(ṗ₁ + ṗ₂)⋅sin(p₁ + p₂) - l₃⋅(ṗ₁ + ṗ₂ + ṗ₃)⋅sin(p₁ +\n",
       "⎢                                                                             \n",
       "⎣l₁⋅ṗ₁⋅cos(p₁) + l₂⋅(ṗ₁ + ṗ₂)⋅cos(p₁ + p₂) + l₃⋅(ṗ₁ + ṗ₂ + ṗ₃)⋅cos(p₁ + \n",
       "\n",
       " p₂ + p₃) - l₄⋅(ṗ₁ + ṗ₂ + ṗ₃ + ṗ₄)⋅sin(p₁ + p₂ + p₃ + p₄)⎤\n",
       "                                                             ⎥\n",
       "p₂ + p₃) + l₄⋅(ṗ₁ + ṗ₂ + ṗ₃ + ṗ₄)⋅cos(p₁ + p₂ + p₃ + p₄) ⎦"
      ]
     },
     "metadata": {},
     "output_type": "display_data"
    },
    {
     "name": "stdout",
     "output_type": "stream",
     "text": [
      "---\n"
     ]
    }
   ],
   "source": [
    "# unit vectors\n",
    "\n",
    "ex = sp.Matrix([1, 0])\n",
    "ey = sp.Matrix([0, 1])\n",
    "\n",
    "# coordinates of the centers of masses (S)and joints (G)\n",
    "S1 = Rz(p1)*ex*s1\n",
    "G1 = Rz(p1)*ex*l1\n",
    "S2 = G1 + Rz(p1 + p2)*ex*s2\n",
    "G2 = G1 + Rz(p1 + p2)*ex*l2\n",
    "S3 = G2 + Rz(p1 + p2 + p3)*ex*s2\n",
    "G3 = G2 + Rz(p1 + p2 + p3)*ex*l3\n",
    "S4 = G3 + Rz(p1 + p2 + p3 + p4)*ex*s2\n",
    "EE = G3 + Rz(p1 + p2 + p3 + p4)*ex*l4\n",
    "\n",
    "\n",
    "\n",
    "# time derivative of the velocities of the center of masses\n",
    "Sd1, Sd2, Sd3, Sd4, EEd = st.col_split(st.time_deriv(st.col_stack(S1, S2, S3, S4, EE), ttheta)) ##"
   ]
  },
  {
   "cell_type": "code",
   "execution_count": 6,
   "metadata": {},
   "outputs": [
    {
     "data": {
      "image/png": "[encoded data removed]",
      "text/latex": [
       "$$\\verb|T| := \\frac{J_{1} \\dot{p}_{1}^{2}}{2} + \\frac{J_{2} \\left(\\dot{p}_{1} + \\dot{p}_{2}\\right)^{2}}{2} + \\frac{J_{3} \\left(\\dot{p}_{1} + \\dot{p}_{2} + \\dot{p}_{3}\\right)^{2}}{2} + \\frac{J_{4} \\left(\\dot{p}_{1} + \\dot{p}_{2} + \\dot{p}_{3} + \\dot{p}_{4}\\right)^{2}}{2} + \\frac{m_{1} \\dot{p}_{1}^{2} s_{1}^{2} \\sin^{2}{\\left (p_{1} \\right )}}{2} + \\frac{m_{1} \\dot{p}_{1}^{2} s_{1}^{2} \\cos^{2}{\\left (p_{1} \\right )}}{2} + \\frac{m_{2} \\left(- l_{1} \\dot{p}_{1} \\sin{\\left (p_{1} \\right )} - s_{2} \\left(\\dot{p}_{1} + \\dot{p}_{2}\\right) \\sin{\\left (p_{1} + p_{2} \\right )}\\right)^{2}}{2} + \\frac{m_{2} \\left(l_{1} \\dot{p}_{1} \\cos{\\left (p_{1} \\right )} + s_{2} \\left(\\dot{p}_{1} + \\dot{p}_{2}\\right) \\cos{\\left (p_{1} + p_{2} \\right )}\\right)^{2}}{2} + \\frac{m_{3} \\left(- l_{1} \\dot{p}_{1} \\sin{\\left (p_{1} \\right )} - l_{2} \\left(\\dot{p}_{1} + \\dot{p}_{2}\\right) \\sin{\\left (p_{1} + p_{2} \\right )} - s_{2} \\left(\\dot{p}_{1} + \\dot{p}_{2} + \\dot{p}_{3}\\right) \\sin{\\left (p_{1} + p_{2} + p_{3} \\right )}\\right)^{2}}{2} + \\frac{m_{3} \\left(l_{1} \\dot{p}_{1} \\cos{\\left (p_{1} \\right )} + l_{2} \\left(\\dot{p}_{1} + \\dot{p}_{2}\\right) \\cos{\\left (p_{1} + p_{2} \\right )} + s_{2} \\left(\\dot{p}_{1} + \\dot{p}_{2} + \\dot{p}_{3}\\right) \\cos{\\left (p_{1} + p_{2} + p_{3} \\right )}\\right)^{2}}{2} + \\frac{m_{4} \\left(- l_{1} \\dot{p}_{1} \\sin{\\left (p_{1} \\right )} - l_{2} \\left(\\dot{p}_{1} + \\dot{p}_{2}\\right) \\sin{\\left (p_{1} + p_{2} \\right )} - l_{3} \\left(\\dot{p}_{1} + \\dot{p}_{2} + \\dot{p}_{3}\\right) \\sin{\\left (p_{1} + p_{2} + p_{3} \\right )} - s_{2} \\left(\\dot{p}_{1} + \\dot{p}_{2} + \\dot{p}_{3} + \\dot{p}_{4}\\right) \\sin{\\left (p_{1} + p_{2} + p_{3} + p_{4} \\right )}\\right)^{2}}{2} + \\frac{m_{4} \\left(l_{1} \\dot{p}_{1} \\cos{\\left (p_{1} \\right )} + l_{2} \\left(\\dot{p}_{1} + \\dot{p}_{2}\\right) \\cos{\\left (p_{1} + p_{2} \\right )} + l_{3} \\left(\\dot{p}_{1} + \\dot{p}_{2} + \\dot{p}_{3}\\right) \\cos{\\left (p_{1} + p_{2} + p_{3} \\right )} + s_{2} \\left(\\dot{p}_{1} + \\dot{p}_{2} + \\dot{p}_{3} + \\dot{p}_{4}\\right) \\cos{\\left (p_{1} + p_{2} + p_{3} + p_{4} \\right )}\\right)^{2}}{2}$$"
      ],
      "text/plain": [
       "T :=       2                 2                       2                             \n",
       "J₁⋅ṗ₁    J₂⋅(ṗ₁ + ṗ₂)    J₃⋅(ṗ₁ + ṗ₂ + ṗ₃)    J₄⋅(ṗ₁ + ṗ₂ + ṗ₃ + ṗ₄)\n",
       "─────── + ─────────────── + ───────────────────── + ──────────────────────────\n",
       "   2             2                    2                          2            \n",
       "\n",
       "2         2   2    2             2   2    2                                   \n",
       "    m₁⋅ṗ₁ ⋅s₁ ⋅sin (p₁)   m₁⋅ṗ₁ ⋅s₁ ⋅cos (p₁)   m₂⋅(-l₁⋅ṗ₁⋅sin(p₁) - s₂⋅(ṗ\n",
       "─ + ──────────────────── + ──────────────────── + ────────────────────────────\n",
       "             2                      2                                      2  \n",
       "\n",
       "                      2                                                    2  \n",
       "₁ + ṗ₂)⋅sin(p₁ + p₂))    m₂⋅(l₁⋅ṗ₁⋅cos(p₁) + s₂⋅(ṗ₁ + ṗ₂)⋅cos(p₁ + p₂))   \n",
       "─────────────────────── + ────────────────────────────────────────────────── +\n",
       "                                                  2                           \n",
       "\n",
       "                                                                              \n",
       " m₃⋅(-l₁⋅ṗ₁⋅sin(p₁) - l₂⋅(ṗ₁ + ṗ₂)⋅sin(p₁ + p₂) - s₂⋅(ṗ₁ + ṗ₂ + ṗ₃)⋅sin(\n",
       " ─────────────────────────────────────────────────────────────────────────────\n",
       "                                              2                               \n",
       "\n",
       "              2                                                               \n",
       "p₁ + p₂ + p₃))    m₃⋅(l₁⋅ṗ₁⋅cos(p₁) + l₂⋅(ṗ₁ + ṗ₂)⋅cos(p₁ + p₂) + s₂⋅(ṗ₁ +\n",
       "─────────────── + ────────────────────────────────────────────────────────────\n",
       "                                                               2              \n",
       "\n",
       "                              2                                               \n",
       " ṗ₂ + ṗ₃)⋅cos(p₁ + p₂ + p₃))    m₄⋅(-l₁⋅ṗ₁⋅sin(p₁) - l₂⋅(ṗ₁ + ṗ₂)⋅sin(p₁ \n",
       "─────────────────────────────── + ────────────────────────────────────────────\n",
       "                                                                              \n",
       "\n",
       "                                                                              \n",
       "+ p₂) - l₃⋅(ṗ₁ + ṗ₂ + ṗ₃)⋅sin(p₁ + p₂ + p₃) - s₂⋅(ṗ₁ + ṗ₂ + ṗ₃ + ṗ₄)⋅si\n",
       "──────────────────────────────────────────────────────────────────────────────\n",
       "                           2                                                  \n",
       "\n",
       "                     2                                                        \n",
       "n(p₁ + p₂ + p₃ + p₄))    m₄⋅(l₁⋅ṗ₁⋅cos(p₁) + l₂⋅(ṗ₁ + ṗ₂)⋅cos(p₁ + p₂) + l₃\n",
       "────────────────────── + ─────────────────────────────────────────────────────\n",
       "                                                                              \n",
       "\n",
       "                                                                              \n",
       "⋅(ṗ₁ + ṗ₂ + ṗ₃)⋅cos(p₁ + p₂ + p₃) + s₂⋅(ṗ₁ + ṗ₂ + ṗ₃ + ṗ₄)⋅cos(p₁ + p₂ \n",
       "──────────────────────────────────────────────────────────────────────────────\n",
       "                  2                                                           \n",
       "\n",
       "           2\n",
       "+ p₃ + p₄)) \n",
       "────────────\n",
       "            "
      ]
     },
     "metadata": {},
     "output_type": "display_data"
    },
    {
     "name": "stdout",
     "output_type": "stream",
     "text": [
      "---\n"
     ]
    }
   ],
   "source": [
    "# kinetic energy\n",
    "T_rot = (J1*pdot1**2)/2 + (J2*(pdot1 + pdot2)**2)/2 + (J3*(pdot1 + pdot2 + pdot3)**2)/2 + (J4*(pdot1 + pdot2 + pdot3 + pdot4)**2)/2\n",
    "T_trans = ( m1*Sd1.T*Sd1  +  m2*Sd2.T*Sd2 +  m3*Sd3.T*Sd3 +  m4*Sd4.T*Sd4 )/2\n",
    "\n",
    "T = T_rot + T_trans[0] ##:\n",
    "\n",
    "# potential energy\n",
    "V = 0"
   ]
  },
  {
   "cell_type": "code",
   "execution_count": 7,
   "metadata": {},
   "outputs": [],
   "source": [
    "if 0:\n",
    "    # Kinetische Energie mit Platzhaltersymbolen einführen:\n",
    "\n",
    "    M1, M2, M3 = MM = st.symb_vector('M1:4')\n",
    "    MM_subs = [(J1 + m1*s1**2 + m2*l1**2, M1), (J2 + m2*s2**2, M2), (m2*l1*s2, M3)]\n",
    "    MM_rplm = st.rev_tuple(MM_subs) # Umkehrung der inneren Tupel -> [(M1, J1+... ), ...]\n",
    "\n",
    "    T_plh = M1*qdot1**2/2 + M2*pdot1**2/2 + M2*pdot1*qdot1 + M2*qdot1**2/2 + M3*pdot1*qdot1*cos(p1) + M3*qdot1**2*cos(p1)\n",
    "\n",
    "    # Probe:\n",
    "    assert sp.simplify(T_plh.subs(MM_rplm) - T) == 0"
   ]
  },
  {
   "cell_type": "code",
   "execution_count": 8,
   "metadata": {},
   "outputs": [],
   "source": [
    "# absolute coordinates\n",
    "a1 = p1\n",
    "a2 = a1 + p2\n",
    "a3 = a2 + p3\n",
    "a4 = a3 + p4"
   ]
  },
  {
   "cell_type": "markdown",
   "metadata": {},
   "source": [
    "Definition of virtual Work: $\\delta W = \\sum_{j=1}^N \\F_j \\delta \\r_j$, where $\\F_j$ are external forces and $ \\delta \\r_j$ are virtual displacements of point-mass $j=1, \\ldots, N$. See also https://en.wikipedia.org/wiki/Generalized_forces.\n",
    "\n",
    "We have in general\n",
    "$$\n",
    "\\delta \\mathbf{r}_j = \\sum_{i=1}^n \\frac {\\partial \\mathbf {r}_j} {\\partial \\theta_i} \\delta \\theta_i,\\quad j=1,\\ldots, N \n",
    "$$\n",
    "\n",
    "\n",
    "$$\n",
    "\\delta W = \\underbrace{\\sum_{j=1}^N \\mathbf {F}_{j} \\cdot \\frac {\\partial \\mathbf {r}_j} {\\partial \\theta_1}}_{Q_1} \\delta \\theta_1 +\n",
    "\\ldots +\n",
    "\\underbrace{\\sum_{j=1}^N \\mathbf {F}_{j} \\cdot \\frac {\\partial \\mathbf {r}_j} {\\partial \\theta_m}}_{Q_m} \\delta \\theta_m = Q_1\\delta \\theta_1 + \\ldots + Q_m\\delta \\theta_m.\n",
    "$$\n",
    "with\n",
    "$\n",
    "   Q_i = \\sum_{j=1}^N \\mathbf {F}_{j} \\cdot \\frac {\\partial \\mathbf {r}_j} {\\partial \\theta_i},\\quad i=1,\\ldots, m, \n",
    "$\n",
    "\n",
    "---\n",
    "\n",
    "In the present situation we have $N=1$ (external force acts only at end effector) and $\\theta_i = p_i$ for $i=1, \\ldots, n$ with $n=4$. Thus we have:\n",
    "\n",
    "$$\n",
    " Q_i =  \\mathbf {F}_{EE} \\cdot \\frac {\\partial \\mathbf {r_{EE}}} {\\partial p_i},\\quad i=1,\\ldots, 4\n",
    "$$\n",
    "\n"
   ]
  },
  {
   "cell_type": "code",
   "execution_count": 9,
   "metadata": {},
   "outputs": [
    {
     "data": {
      "image/png": "[encoded data removed]",
      "text/latex": [
       "$$\\verb|tau_vect| := \\left[\\begin{matrix}- \\tau_{n} \\sin{\\left (p_{1} + p_{2} + p_{3} + p_{4} \\right )} + \\tau_{t} \\cos{\\left (p_{1} + p_{2} + p_{3} + p_{4} \\right )}\\\\\\tau_{n} \\cos{\\left (p_{1} + p_{2} + p_{3} + p_{4} \\right )} + \\tau_{t} \\sin{\\left (p_{1} + p_{2} + p_{3} + p_{4} \\right )}\\end{matrix}\\right]$$"
      ],
      "text/plain": [
       "tau_vect := ⎡-τₙ⋅sin(p₁ + p₂ + p₃ + p₄) + τₜ⋅cos(p₁ + p₂ + p₃ + p₄)⎤\n",
       "⎢                                                      ⎥\n",
       "⎣τₙ⋅cos(p₁ + p₂ + p₃ + p₄) + τₜ⋅sin(p₁ + p₂ + p₃ + p₄) ⎦"
      ]
     },
     "metadata": {},
     "output_type": "display_data"
    },
    {
     "name": "stdout",
     "output_type": "stream",
     "text": [
      "---\n"
     ]
    }
   ],
   "source": [
    "# virtual work\n",
    "\n",
    "ttau = st.symb_vector('tau_t, tau_n')\n",
    "\n",
    "# x-y-coordinates of the Vector of external forces\n",
    "tau_vect = Rz(a4)*ttau  ##:\n"
   ]
  },
  {
   "cell_type": "code",
   "execution_count": 10,
   "metadata": {},
   "outputs": [
    {
     "data": {
      "image/png": "[encoded data removed]",
      "text/latex": [
       "$$\\verb|QQ| := \\left[\\begin{matrix}l_{1} \\tau_{n} \\cos{\\left (p_{2} + p_{3} + p_{4} \\right )} + l_{1} \\tau_{t} \\sin{\\left (p_{2} + p_{3} + p_{4} \\right )} + l_{2} \\tau_{n} \\cos{\\left (p_{3} + p_{4} \\right )} + l_{2} \\tau_{t} \\sin{\\left (p_{3} + p_{4} \\right )} + l_{3} \\tau_{n} \\cos{\\left (p_{4} \\right )} + l_{3} \\tau_{t} \\sin{\\left (p_{4} \\right )} + l_{4} \\tau_{n}\\\\l_{2} \\tau_{n} \\cos{\\left (p_{3} + p_{4} \\right )} + l_{2} \\tau_{t} \\sin{\\left (p_{3} + p_{4} \\right )} + l_{3} \\tau_{n} \\cos{\\left (p_{4} \\right )} + l_{3} \\tau_{t} \\sin{\\left (p_{4} \\right )} + l_{4} \\tau_{n}\\\\l_{3} \\tau_{n} \\cos{\\left (p_{4} \\right )} + l_{3} \\tau_{t} \\sin{\\left (p_{4} \\right )} + l_{4} \\tau_{n}\\\\l_{4} \\tau_{n}\\end{matrix}\\right]$$"
      ],
      "text/plain": [
       "QQ := ⎡l₁⋅τₙ⋅cos(p₂ + p₃ + p₄) + l₁⋅τₜ⋅sin(p₂ + p₃ + p₄) + l₂⋅τₙ⋅cos(p₃ + p₄) + l₂⋅τ\n",
       "⎢                                                                             \n",
       "⎢                          l₂⋅τₙ⋅cos(p₃ + p₄) + l₂⋅τₜ⋅sin(p₃ + p₄) + l₃⋅τₙ⋅cos\n",
       "⎢                                                                             \n",
       "⎢                                               l₃⋅τₙ⋅cos(p₄) + l₃⋅τₜ⋅sin(p₄) \n",
       "⎢                                                                             \n",
       "⎣                                                               l₄⋅τₙ         \n",
       "\n",
       "ₜ⋅sin(p₃ + p₄) + l₃⋅τₙ⋅cos(p₄) + l₃⋅τₜ⋅sin(p₄) + l₄⋅τₙ⎤\n",
       "                                                      ⎥\n",
       "(p₄) + l₃⋅τₜ⋅sin(p₄) + l₄⋅τₙ                          ⎥\n",
       "                                                      ⎥\n",
       "+ l₄⋅τₙ                                               ⎥\n",
       "                                                      ⎥\n",
       "                                                      ⎦"
      ]
     },
     "metadata": {},
     "output_type": "display_data"
    },
    {
     "name": "stdout",
     "output_type": "stream",
     "text": [
      "---\n"
     ]
    }
   ],
   "source": [
    "QQ = (EE.jacobian(pp).T*tau_vect).smplf ##:"
   ]
  },
  {
   "cell_type": "markdown",
   "metadata": {},
   "source": [
    "Calculate the right hand side of\n",
    "\n",
    "$$\n",
    "\\M(\\btheta) + \\C(\\btheta, \\dot \\btheta) + \\K(\\btheta, \\dot \\btheta) = \\B(\\btheta) \\btau.\n",
    "$$"
   ]
  },
  {
   "cell_type": "code",
   "execution_count": 11,
   "metadata": {},
   "outputs": [
    {
     "data": {
      "image/png": "[encoded data removed]",
      "text/latex": [
       "$$\\verb|B| := \\left[\\begin{matrix}l_{1} \\sin{\\left (p_{2} + p_{3} + p_{4} \\right )} + l_{2} \\sin{\\left (p_{3} + p_{4} \\right )} + l_{3} \\sin{\\left (p_{4} \\right )} & l_{1} \\cos{\\left (p_{2} + p_{3} + p_{4} \\right )} + l_{2} \\cos{\\left (p_{3} + p_{4} \\right )} + l_{3} \\cos{\\left (p_{4} \\right )} + l_{4}\\\\l_{2} \\sin{\\left (p_{3} + p_{4} \\right )} + l_{3} \\sin{\\left (p_{4} \\right )} & l_{2} \\cos{\\left (p_{3} + p_{4} \\right )} + l_{3} \\cos{\\left (p_{4} \\right )} + l_{4}\\\\l_{3} \\sin{\\left (p_{4} \\right )} & l_{3} \\cos{\\left (p_{4} \\right )} + l_{4}\\\\0 & l_{4}\\end{matrix}\\right]$$"
      ],
      "text/plain": [
       "B := ⎡l₁⋅sin(p₂ + p₃ + p₄) + l₂⋅sin(p₃ + p₄) + l₃⋅sin(p₄)  l₁⋅cos(p₂ + p₃ + p₄) + l\n",
       "⎢                                                                             \n",
       "⎢           l₂⋅sin(p₃ + p₄) + l₃⋅sin(p₄)                         l₂⋅cos(p₃ + p\n",
       "⎢                                                                             \n",
       "⎢                    l₃⋅sin(p₄)                                           l₃⋅c\n",
       "⎢                                                                             \n",
       "⎣                         0                                                   \n",
       "\n",
       "₂⋅cos(p₃ + p₄) + l₃⋅cos(p₄) + l₄⎤\n",
       "                                ⎥\n",
       "₄) + l₃⋅cos(p₄) + l₄            ⎥\n",
       "                                ⎥\n",
       "os(p₄) + l₄                     ⎥\n",
       "                                ⎥\n",
       "   l₄                           ⎦"
      ]
     },
     "metadata": {},
     "output_type": "display_data"
    },
    {
     "name": "stdout",
     "output_type": "stream",
     "text": [
      "---\n"
     ]
    }
   ],
   "source": [
    "B = QQ.jacobian(ttau) ##:\n",
    "\n"
   ]
  },
  {
   "cell_type": "markdown",
   "metadata": {},
   "source": [
    "### Check integrability with differential form approach"
   ]
  },
  {
   "cell_type": "code",
   "execution_count": 12,
   "metadata": {},
   "outputs": [],
   "source": [
    "import pycartan as pc\n",
    "\n",
    "w1, w2 = ww = pc.VectorDifferentialForm(1, ttheta, coeff=B.T)"
   ]
  },
  {
   "cell_type": "code",
   "execution_count": 13,
   "metadata": {},
   "outputs": [],
   "source": [
    "res1 = w1.d^w1^w2\n",
    "res2 = w2.d^w1^w2"
   ]
  },
  {
   "cell_type": "code",
   "execution_count": 14,
   "metadata": {},
   "outputs": [],
   "source": [
    "res2 = w2.d^w1^w2"
   ]
  },
  {
   "cell_type": "code",
   "execution_count": 15,
   "metadata": {},
   "outputs": [
    {
     "data": {
      "image/png": "[encoded data removed]",
      "text/latex": [
       "$$\\verb|res1.coeff.smplf | := \\left[\\begin{matrix}0\\end{matrix}\\right]$$"
      ],
      "text/plain": [
       "res1.coeff.smplf  := [0]"
      ]
     },
     "metadata": {},
     "output_type": "display_data"
    },
    {
     "name": "stdout",
     "output_type": "stream",
     "text": [
      "___\n"
     ]
    },
    {
     "data": {
      "image/png": "[encoded data removed]",
      "text/latex": [
       "$$\\verb|res2.coeff.smplf | := \\left[\\begin{matrix}0\\end{matrix}\\right]$$"
      ],
      "text/plain": [
       "res2.coeff.smplf  := [0]"
      ]
     },
     "metadata": {},
     "output_type": "display_data"
    },
    {
     "name": "stdout",
     "output_type": "stream",
     "text": [
      "___\n"
     ]
    }
   ],
   "source": [
    "res1.coeff.smplf ##:\n",
    "res2.coeff.smplf ##:"
   ]
  },
  {
   "cell_type": "markdown",
   "metadata": {},
   "source": [
    "#### Conclusion:\n",
    "\n",
    "Both 4-Forms vanish, thus the integrability is given. A separated cooedinate representation exists.\n",
    "\n",
    "\n",
    "---\n",
    "\n",
    "\n",
    "### Vector-Field approach (Example 2)"
   ]
  },
  {
   "cell_type": "code",
   "execution_count": 16,
   "metadata": {},
   "outputs": [
    {
     "data": {
      "image/png": "[encoded data removed]",
      "text/latex": [
       "$$\\verb|nsm| := \\left[\\begin{matrix}l_{2} \\left(l_{3} \\sin{\\left (p_{3} \\right )} + l_{4} \\sin{\\left (p_{3} + p_{4} \\right )}\\right) & l_{4} \\left(l_{2} \\sin{\\left (p_{3} + p_{4} \\right )} + l_{3} \\sin{\\left (p_{4} \\right )}\\right)\\\\- l_{1} l_{3} \\sin{\\left (p_{2} + p_{3} \\right )} - l_{1} l_{4} \\sin{\\left (p_{2} + p_{3} + p_{4} \\right )} - l_{2} l_{3} \\sin{\\left (p_{3} \\right )} - l_{2} l_{4} \\sin{\\left (p_{3} + p_{4} \\right )} & - l_{4} \\left(l_{1} \\sin{\\left (p_{2} + p_{3} + p_{4} \\right )} + l_{2} \\sin{\\left (p_{3} + p_{4} \\right )} + l_{3} \\sin{\\left (p_{4} \\right )}\\right)\\\\l_{1} \\left(l_{2} \\sin{\\left (p_{2} \\right )} + l_{3} \\sin{\\left (p_{2} + p_{3} \\right )} + l_{4} \\sin{\\left (p_{2} + p_{3} + p_{4} \\right )}\\right) & 0\\\\0 & l_{1} \\left(l_{2} \\sin{\\left (p_{2} \\right )} + l_{3} \\sin{\\left (p_{2} + p_{3} \\right )} + l_{4} \\sin{\\left (p_{2} + p_{3} + p_{4} \\right )}\\right)\\end{matrix}\\right]$$"
      ],
      "text/plain": [
       "nsm := ⎡                        l₂⋅(l₃⋅sin(p₃) + l₄⋅sin(p₃ + p₄))                    \n",
       "⎢                                                                             \n",
       "⎢-l₁⋅l₃⋅sin(p₂ + p₃) - l₁⋅l₄⋅sin(p₂ + p₃ + p₄) - l₂⋅l₃⋅sin(p₃) - l₂⋅l₄⋅sin(p₃ \n",
       "⎢                                                                             \n",
       "⎢             l₁⋅(l₂⋅sin(p₂) + l₃⋅sin(p₂ + p₃) + l₄⋅sin(p₂ + p₃ + p₄))        \n",
       "⎢                                                                             \n",
       "⎣                                        0                                    \n",
       "\n",
       "                   l₄⋅(l₂⋅sin(p₃ + p₄) + l₃⋅sin(p₄))            ⎤\n",
       "                                                                ⎥\n",
       "+ p₄)  -l₄⋅(l₁⋅sin(p₂ + p₃ + p₄) + l₂⋅sin(p₃ + p₄) + l₃⋅sin(p₄))⎥\n",
       "                                                                ⎥\n",
       "                                   0                            ⎥\n",
       "                                                                ⎥\n",
       "       l₁⋅(l₂⋅sin(p₂) + l₃⋅sin(p₂ + p₃) + l₄⋅sin(p₂ + p₃ + p₄)) ⎦"
      ]
     },
     "metadata": {},
     "output_type": "display_data"
    },
    {
     "name": "stdout",
     "output_type": "stream",
     "text": [
      "---\n"
     ]
    },
    {
     "data": {
      "image/png": "[encoded data removed]",
      "text/latex": [
       "$$\\verb|nsm.shape | := \\left ( 4, \\quad 2\\right )$$"
      ],
      "text/plain": [
       "nsm.shape  := (4, 2)"
      ]
     },
     "metadata": {},
     "output_type": "display_data"
    },
    {
     "name": "stdout",
     "output_type": "stream",
     "text": [
      "___\n"
     ]
    }
   ],
   "source": [
    "nsm = st.nullspaceMatrix(B.T) ##:\n",
    "\n",
    "nsm.shape ##:\n",
    "\n",
    "\n",
    "v1, v2 = st.col_split(nsm)"
   ]
  },
  {
   "cell_type": "code",
   "execution_count": 17,
   "metadata": {},
   "outputs": [
    {
     "data": {
      "image/png": "[encoded data removed]",
      "text/latex": [
       "$$\\verb|test| := \\left[\\begin{matrix}0 & 0\\\\0 & 0\\end{matrix}\\right]$$"
      ],
      "text/plain": [
       "test := ⎡0  0⎤\n",
       "⎢    ⎥\n",
       "⎣0  0⎦"
      ]
     },
     "metadata": {},
     "output_type": "display_data"
    },
    {
     "name": "stdout",
     "output_type": "stream",
     "text": [
      "---\n"
     ]
    }
   ],
   "source": [
    "# check that null space Matrix is correct\n",
    "\n",
    "test = (nsm.T * B).smplf ##:"
   ]
  },
  {
   "cell_type": "code",
   "execution_count": 18,
   "metadata": {},
   "outputs": [
    {
     "data": {
      "image/png": "[encoded data removed]",
      "text/latex": [
       "$$\\verb|v3| := \\left[\\begin{matrix}0\\\\- l_{1} l_{3} l_{4} \\left(l_{1} + l_{2} \\cos{\\left (p_{2} \\right )} + l_{3} \\cos{\\left (p_{2} + p_{3} \\right )} + l_{4} \\cos{\\left (p_{2} + p_{3} + p_{4} \\right )}\\right) \\sin{\\left (p_{4} \\right )}\\\\l_{1} l_{4} \\left(- l_{1} \\left(l_{2} \\sin{\\left (p_{2} \\right )} + l_{3} \\sin{\\left (p_{2} + p_{3} \\right )} + l_{4} \\sin{\\left (p_{2} + p_{3} + p_{4} \\right )}\\right) \\cos{\\left (p_{2} + p_{3} + p_{4} \\right )} + \\left(l_{1} \\sin{\\left (p_{2} + p_{3} + p_{4} \\right )} + l_{2} \\sin{\\left (p_{3} + p_{4} \\right )} + l_{3} \\sin{\\left (p_{4} \\right )}\\right) \\left(l_{2} \\cos{\\left (p_{2} \\right )} + l_{3} \\cos{\\left (p_{2} + p_{3} \\right )} + l_{4} \\cos{\\left (p_{2} + p_{3} + p_{4} \\right )}\\right)\\right)\\\\l_{1} \\left(l_{1} \\left(l_{3} \\cos{\\left (p_{2} + p_{3} \\right )} + l_{4} \\cos{\\left (p_{2} + p_{3} + p_{4} \\right )}\\right) \\left(l_{2} \\sin{\\left (p_{2} \\right )} + l_{3} \\sin{\\left (p_{2} + p_{3} \\right )} + l_{4} \\sin{\\left (p_{2} + p_{3} + p_{4} \\right )}\\right) - \\left(l_{2} \\cos{\\left (p_{2} \\right )} + l_{3} \\cos{\\left (p_{2} + p_{3} \\right )} + l_{4} \\cos{\\left (p_{2} + p_{3} + p_{4} \\right )}\\right) \\left(l_{1} l_{3} \\sin{\\left (p_{2} + p_{3} \\right )} + l_{1} l_{4} \\sin{\\left (p_{2} + p_{3} + p_{4} \\right )} + l_{2} l_{3} \\sin{\\left (p_{3} \\right )} + l_{2} l_{4} \\sin{\\left (p_{3} + p_{4} \\right )}\\right)\\right)\\end{matrix}\\right]$$"
      ],
      "text/plain": [
       "v3 := ⎡                                                                             \n",
       "⎢                                                                             \n",
       "⎢                                                                             \n",
       "⎢                                                                             \n",
       "⎢                        l₁⋅l₄⋅(-l₁⋅(l₂⋅sin(p₂) + l₃⋅sin(p₂ + p₃) + l₄⋅sin(p₂ \n",
       "⎢                                                                             \n",
       "⎣l₁⋅(l₁⋅(l₃⋅cos(p₂ + p₃) + l₄⋅cos(p₂ + p₃ + p₄))⋅(l₂⋅sin(p₂) + l₃⋅sin(p₂ + p₃)\n",
       "\n",
       "                                           0                                  \n",
       "                                                                              \n",
       "      -l₁⋅l₃⋅l₄⋅(l₁ + l₂⋅cos(p₂) + l₃⋅cos(p₂ + p₃) + l₄⋅cos(p₂ + p₃ + p₄))⋅sin\n",
       "                                                                              \n",
       "+ p₃ + p₄))⋅cos(p₂ + p₃ + p₄) + (l₁⋅sin(p₂ + p₃ + p₄) + l₂⋅sin(p₃ + p₄) + l₃⋅s\n",
       "                                                                              \n",
       " + l₄⋅sin(p₂ + p₃ + p₄)) - (l₂⋅cos(p₂) + l₃⋅cos(p₂ + p₃) + l₄⋅cos(p₂ + p₃ + p₄\n",
       "\n",
       "                                                                              \n",
       "                                                                              \n",
       "(p₄)                                                                          \n",
       "                                                                              \n",
       "in(p₄))⋅(l₂⋅cos(p₂) + l₃⋅cos(p₂ + p₃) + l₄⋅cos(p₂ + p₃ + p₄)))                \n",
       "                                                                              \n",
       "))⋅(l₁⋅l₃⋅sin(p₂ + p₃) + l₁⋅l₄⋅sin(p₂ + p₃ + p₄) + l₂⋅l₃⋅sin(p₃) + l₂⋅l₄⋅sin(p\n",
       "\n",
       "         ⎤\n",
       "         ⎥\n",
       "         ⎥\n",
       "         ⎥\n",
       "         ⎥\n",
       "         ⎥\n",
       "₃ + p₄)))⎦"
      ]
     },
     "metadata": {},
     "output_type": "display_data"
    },
    {
     "name": "stdout",
     "output_type": "stream",
     "text": [
      "---\n"
     ]
    },
    {
     "data": {
      "image/png": "[encoded data removed]",
      "text/latex": [
       "$$\\verb|st.generic_rank(Mtest) | := 2$$"
      ],
      "text/plain": [
       "st.generic_rank(Mtest)  := 2"
      ]
     },
     "metadata": {},
     "output_type": "display_data"
    },
    {
     "name": "stdout",
     "output_type": "stream",
     "text": [
      "___\n"
     ]
    }
   ],
   "source": [
    "v3 = st.lie_bracket(v1, v2, pp).smplf ##:\n",
    "\n",
    "Mtest = st.col_stack(v1, v2, v3)\n",
    "\n",
    "st.generic_rank(Mtest) ##:"
   ]
  },
  {
   "cell_type": "markdown",
   "metadata": {},
   "source": [
    "#### Conlcusion\n",
    "Distribution is involutive (consistently with the result above).\n",
    "\n",
    "----\n",
    "\n",
    "Now consider only one input: either $\\tau_\\mathrm t$ or $\\tau_\\mathrm n$. This is equivalent to drop either $\\omega_2$ or $\\omega_1$.\n"
   ]
  },
  {
   "cell_type": "code",
   "execution_count": 19,
   "metadata": {},
   "outputs": [
    {
     "data": {
      "text/plain": [
       "eta_1  := (-l1*l2*sin(p2))dp1^dp2^dp3  +  (-l1*(l2*sin(p2) + l3*sin(p2 + p3)))dp1^dp2^dp4  +  (-l3*(l1*sin(p2 + p3) + l2*sin(p3)))dp1^dp3^dp4  +  (-l2*l3*sin(p3))dp2^dp3^dp4"
      ]
     },
     "metadata": {},
     "output_type": "display_data"
    },
    {
     "name": "stdout",
     "output_type": "stream",
     "text": [
      "___\n"
     ]
    },
    {
     "data": {
      "text/plain": [
       "eta_2  := (-l1*l2*sin(p2))dp1^dp2^dp3  +  (-l1*(l2*sin(p2) + l3*sin(p2 + p3)))dp1^dp2^dp4  +  (-l3*(l1*sin(p2 + p3) + l2*sin(p3)))dp1^dp3^dp4  +  (-l2*l3*sin(p3))dp2^dp3^dp4"
      ]
     },
     "metadata": {},
     "output_type": "display_data"
    },
    {
     "name": "stdout",
     "output_type": "stream",
     "text": [
      "___\n"
     ]
    }
   ],
   "source": [
    "eta_1 = w1.d^w1\n",
    "eta_2 = w2.d^w2\n",
    "\n",
    "eta_1.coeff.simplify()\n",
    "eta_2.coeff.simplify()\n",
    "\n",
    "\n",
    "eta_1 ##:\n",
    "eta_2 ##:"
   ]
  },
  {
   "cell_type": "code",
   "execution_count": 20,
   "metadata": {},
   "outputs": [
    {
     "data": {
      "image/png": "[encoded data removed]",
      "text/latex": [
       "$$\\verb|eta_1.coeff[0] | := - l_{1} l_{2} \\sin{\\left (p_{2} \\right )}$$"
      ],
      "text/plain": [
       "eta_1.coeff[0]  := -l₁⋅l₂⋅sin(p₂)"
      ]
     },
     "metadata": {},
     "output_type": "display_data"
    },
    {
     "name": "stdout",
     "output_type": "stream",
     "text": [
      "___\n"
     ]
    },
    {
     "data": {
      "image/png": "[encoded data removed]",
      "text/latex": [
       "$$\\verb|eta_2.coeff[0] | := - l_{1} l_{2} \\sin{\\left (p_{2} \\right )}$$"
      ],
      "text/plain": [
       "eta_2.coeff[0]  := -l₁⋅l₂⋅sin(p₂)"
      ]
     },
     "metadata": {},
     "output_type": "display_data"
    },
    {
     "name": "stdout",
     "output_type": "stream",
     "text": [
      "___\n"
     ]
    }
   ],
   "source": [
    "eta_1.coeff[0] ##:\n",
    "\n",
    "eta_2.coeff[0] ##:"
   ]
  },
  {
   "cell_type": "markdown",
   "metadata": {},
   "source": [
    "### Vectorfield approach"
   ]
  },
  {
   "cell_type": "code",
   "execution_count": 21,
   "metadata": {},
   "outputs": [
    {
     "data": {
      "image/png": "[encoded data removed]",
      "text/latex": [
       "$$\\verb|sscc.T| := \\left[\\begin{array}{cccccccccccc}s_{234} & s_{34} & s_{4} & c_{234} & c_{34} & c_{4} & s_{2} & s_{3} & s_{23} & c_{2} & c_{3} & c_{23}\\end{array}\\right]$$"
      ],
      "text/plain": [
       "sscc.T := [s_{234}  s_{34}  s_{4}  c_{234}  c_{34}  c_{4}  s_{2}  s_{3}  s_{23}  c_{2}  \n",
       "c_{3}  c_{23}]"
      ]
     },
     "metadata": {},
     "output_type": "display_data"
    },
    {
     "name": "stdout",
     "output_type": "stream",
     "text": [
      "---\n"
     ]
    }
   ],
   "source": [
    "# abbreviations:\n",
    "\n",
    "sscc = st.symb_vector(\"s_{234}, s_{34}, s_{4}, c_{234}, c_{34}, c_{4}, s_{2}, s_{3}, s_{23}, c_{2}, c_{3}, c_{23}\") ##:T\n",
    "\n",
    "rplmsscc = list(zip([sin(p2+ p3 + p4), sin(p3 + p4), sin(p4), cos(p2+ p3 + p4), cos(p3 + p4), cos(p4),\n",
    "                     sin(p2), sin(p3), sin(p2 + p3), cos(p2), cos(p3), cos(p2 + p3)], sscc))"
   ]
  },
  {
   "cell_type": "code",
   "execution_count": 22,
   "metadata": {},
   "outputs": [
    {
     "data": {
      "image/png": "[encoded data removed]",
      "text/latex": [
       "$$\\verb|nsm1| := \\left[\\begin{matrix}- l_{2} \\sin{\\left (p_{3} + p_{4} \\right )} - l_{3} \\sin{\\left (p_{4} \\right )} & - l_{3} \\sin{\\left (p_{4} \\right )} & 0\\\\l_{1} \\sin{\\left (p_{2} + p_{3} + p_{4} \\right )} + l_{2} \\sin{\\left (p_{3} + p_{4} \\right )} + l_{3} \\sin{\\left (p_{4} \\right )} & 0 & 0\\\\0 & l_{1} \\sin{\\left (p_{2} + p_{3} + p_{4} \\right )} + l_{2} \\sin{\\left (p_{3} + p_{4} \\right )} + l_{3} \\sin{\\left (p_{4} \\right )} & 0\\\\0 & 0 & 1\\end{matrix}\\right]$$"
      ],
      "text/plain": [
       "nsm1 := ⎡           -l₂⋅sin(p₃ + p₄) - l₃⋅sin(p₄)                                 -l₃⋅\n",
       "⎢                                                                             \n",
       "⎢l₁⋅sin(p₂ + p₃ + p₄) + l₂⋅sin(p₃ + p₄) + l₃⋅sin(p₄)                          \n",
       "⎢                                                                             \n",
       "⎢                         0                           l₁⋅sin(p₂ + p₃ + p₄) + l\n",
       "⎢                                                                             \n",
       "⎣                         0                                                   \n",
       "\n",
       "sin(p₄)                      0⎤\n",
       "                              ⎥\n",
       " 0                           0⎥\n",
       "                              ⎥\n",
       "₂⋅sin(p₃ + p₄) + l₃⋅sin(p₄)  0⎥\n",
       "                              ⎥\n",
       " 0                           1⎦"
      ]
     },
     "metadata": {},
     "output_type": "display_data"
    },
    {
     "name": "stdout",
     "output_type": "stream",
     "text": [
      "---\n"
     ]
    },
    {
     "data": {
      "image/png": "[encoded data removed]",
      "text/latex": [
       "$$\\verb|nsm2| := \\left[\\begin{matrix}- l_{2} \\cos{\\left (p_{3} + p_{4} \\right )} - l_{3} \\cos{\\left (p_{4} \\right )} - l_{4} & - l_{3} \\cos{\\left (p_{4} \\right )} - l_{4} & - l_{4}\\\\l_{1} \\cos{\\left (p_{2} + p_{3} + p_{4} \\right )} + l_{2} \\cos{\\left (p_{3} + p_{4} \\right )} + l_{3} \\cos{\\left (p_{4} \\right )} + l_{4} & 0 & 0\\\\0 & l_{1} \\cos{\\left (p_{2} + p_{3} + p_{4} \\right )} + l_{2} \\cos{\\left (p_{3} + p_{4} \\right )} + l_{3} \\cos{\\left (p_{4} \\right )} + l_{4} & 0\\\\0 & 0 & l_{1} \\cos{\\left (p_{2} + p_{3} + p_{4} \\right )} + l_{2} \\cos{\\left (p_{3} + p_{4} \\right )} + l_{3} \\cos{\\left (p_{4} \\right )} + l_{4}\\end{matrix}\\right]$$"
      ],
      "text/plain": [
       "nsm2 := ⎡           -l₂⋅cos(p₃ + p₄) - l₃⋅cos(p₄) - l₄                                \n",
       "⎢                                                                             \n",
       "⎢l₁⋅cos(p₂ + p₃ + p₄) + l₂⋅cos(p₃ + p₄) + l₃⋅cos(p₄) + l₄                     \n",
       "⎢                                                                             \n",
       "⎢                           0                              l₁⋅cos(p₂ + p₃ + p₄\n",
       "⎢                                                                             \n",
       "⎣                           0                                                 \n",
       "\n",
       " -l₃⋅cos(p₄) - l₄                                                -l₄          \n",
       "                                                                              \n",
       "        0                                                         0           \n",
       "                                                                              \n",
       ") + l₂⋅cos(p₃ + p₄) + l₃⋅cos(p₄) + l₄                             0           \n",
       "                                                                              \n",
       "        0                              l₁⋅cos(p₂ + p₃ + p₄) + l₂⋅cos(p₃ + p₄) \n",
       "\n",
       "                 ⎤\n",
       "                 ⎥\n",
       "                 ⎥\n",
       "                 ⎥\n",
       "                 ⎥\n",
       "                 ⎥\n",
       "+ l₃⋅cos(p₄) + l₄⎦"
      ]
     },
     "metadata": {},
     "output_type": "display_data"
    },
    {
     "name": "stdout",
     "output_type": "stream",
     "text": [
      "---\n"
     ]
    },
    {
     "data": {
      "image/png": "[encoded data removed]",
      "text/latex": [
       "$$\\verb|st.generic_rank(st.col_stack(nsm1, lb1)) | := 4$$"
      ],
      "text/plain": [
       "st.generic_rank(st.col_stack(nsm1, lb1))  := 4"
      ]
     },
     "metadata": {},
     "output_type": "display_data"
    },
    {
     "name": "stdout",
     "output_type": "stream",
     "text": [
      "___\n"
     ]
    },
    {
     "data": {
      "image/png": "[encoded data removed]",
      "text/latex": [
       "$$\\verb|st.generic_rank(st.col_stack(nsm2, lb2)) | := 4$$"
      ],
      "text/plain": [
       "st.generic_rank(st.col_stack(nsm2, lb2))  := 4"
      ]
     },
     "metadata": {},
     "output_type": "display_data"
    },
    {
     "name": "stdout",
     "output_type": "stream",
     "text": [
      "___\n"
     ]
    },
    {
     "data": {
      "image/png": "[encoded data removed]",
      "text/latex": [
       "$$\\verb|det1| := - l_{1} l_{2} s_{2} \\left(l_{1} s_{234} + l_{2} s_{34} + l_{3} s_{4}\\right)^{2}$$"
      ],
      "text/plain": [
       "det1 :=                                                 2\n",
       "-l₁⋅l₂⋅s_{2}⋅(l₁⋅s_{234} + l₂⋅s_{34} + l₃⋅s_{4}) "
      ]
     },
     "metadata": {},
     "output_type": "display_data"
    },
    {
     "name": "stdout",
     "output_type": "stream",
     "text": [
      "---\n"
     ]
    },
    {
     "data": {
      "image/png": "[encoded data removed]",
      "text/latex": [
       "$$\\verb|det2| := c_{234}^{4} l_{1}^{4} l_{2} s_{34} - c_{234}^{3} c_{34} l_{1}^{4} l_{2} s_{234} + 3 c_{234}^{3} c_{34} l_{1}^{3} l_{2}^{2} s_{34} + 3 c_{234}^{3} c_{4} l_{1}^{3} l_{2} l_{3} s_{34} + 3 c_{234}^{3} l_{1}^{3} l_{2} l_{4} s_{34} - 3 c_{234}^{2} c_{34}^{2} l_{1}^{3} l_{2}^{2} s_{234} + 3 c_{234}^{2} c_{34}^{2} l_{1}^{2} l_{2}^{3} s_{34} - 3 c_{234}^{2} c_{34} c_{4} l_{1}^{3} l_{2} l_{3} s_{234} + 6 c_{234}^{2} c_{34} c_{4} l_{1}^{2} l_{2}^{2} l_{3} s_{34} - 3 c_{234}^{2} c_{34} l_{1}^{3} l_{2} l_{4} s_{234} + 6 c_{234}^{2} c_{34} l_{1}^{2} l_{2}^{2} l_{4} s_{34} + 3 c_{234}^{2} c_{4}^{2} l_{1}^{2} l_{2} l_{3}^{2} s_{34} + 6 c_{234}^{2} c_{4} l_{1}^{2} l_{2} l_{3} l_{4} s_{34} + 3 c_{234}^{2} l_{1}^{2} l_{2} l_{4}^{2} s_{34} - 3 c_{234} c_{34}^{3} l_{1}^{2} l_{2}^{3} s_{234} + c_{234} c_{34}^{3} l_{1} l_{2}^{4} s_{34} - 6 c_{234} c_{34}^{2} c_{4} l_{1}^{2} l_{2}^{2} l_{3} s_{234} + 3 c_{234} c_{34}^{2} c_{4} l_{1} l_{2}^{3} l_{3} s_{34} - 6 c_{234} c_{34}^{2} l_{1}^{2} l_{2}^{2} l_{4} s_{234} + 3 c_{234} c_{34}^{2} l_{1} l_{2}^{3} l_{4} s_{34} - 3 c_{234} c_{34} c_{4}^{2} l_{1}^{2} l_{2} l_{3}^{2} s_{234} + 3 c_{234} c_{34} c_{4}^{2} l_{1} l_{2}^{2} l_{3}^{2} s_{34} - 6 c_{234} c_{34} c_{4} l_{1}^{2} l_{2} l_{3} l_{4} s_{234} + 6 c_{234} c_{34} c_{4} l_{1} l_{2}^{2} l_{3} l_{4} s_{34} - 3 c_{234} c_{34} l_{1}^{2} l_{2} l_{4}^{2} s_{234} + 3 c_{234} c_{34} l_{1} l_{2}^{2} l_{4}^{2} s_{34} + c_{234} c_{4}^{3} l_{1} l_{2} l_{3}^{3} s_{34} + 3 c_{234} c_{4}^{2} l_{1} l_{2} l_{3}^{2} l_{4} s_{34} + 3 c_{234} c_{4} l_{1} l_{2} l_{3} l_{4}^{2} s_{34} + c_{234} l_{1} l_{2} l_{4}^{3} s_{34} - c_{34}^{4} l_{1} l_{2}^{4} s_{234} - 3 c_{34}^{3} c_{4} l_{1} l_{2}^{3} l_{3} s_{234} - 3 c_{34}^{3} l_{1} l_{2}^{3} l_{4} s_{234} - 3 c_{34}^{2} c_{4}^{2} l_{1} l_{2}^{2} l_{3}^{2} s_{234} - 6 c_{34}^{2} c_{4} l_{1} l_{2}^{2} l_{3} l_{4} s_{234} - 3 c_{34}^{2} l_{1} l_{2}^{2} l_{4}^{2} s_{234} - c_{34} c_{4}^{3} l_{1} l_{2} l_{3}^{3} s_{234} - 3 c_{34} c_{4}^{2} l_{1} l_{2} l_{3}^{2} l_{4} s_{234} - 3 c_{34} c_{4} l_{1} l_{2} l_{3} l_{4}^{2} s_{234} - c_{34} l_{1} l_{2} l_{4}^{3} s_{234}$$"
      ],
      "text/plain": [
       "det2 :=        4   4                    3          4                       3          \n",
       "c_{234} ⋅l₁ ⋅l₂⋅s_{34} - c_{234} ⋅c_{34}⋅l₁ ⋅l₂⋅s_{234} + 3⋅c_{234} ⋅c_{34}⋅l₁\n",
       "\n",
       "3   2                   3         3                         3   3             \n",
       " ⋅l₂ ⋅s_{34} + 3⋅c_{234} ⋅c_{4}⋅l₁ ⋅l₂⋅l₃⋅s_{34} + 3⋅c_{234} ⋅l₁ ⋅l₂⋅l₄⋅s_{34}\n",
       "\n",
       "            2       2   3   2                    2       2   2   3            \n",
       " - 3⋅c_{234} ⋅c_{34} ⋅l₁ ⋅l₂ ⋅s_{234} + 3⋅c_{234} ⋅c_{34} ⋅l₁ ⋅l₂ ⋅s_{34} - 3⋅\n",
       "\n",
       "       2                3                          2                2   2     \n",
       "c_{234} ⋅c_{34}⋅c_{4}⋅l₁ ⋅l₂⋅l₃⋅s_{234} + 6⋅c_{234} ⋅c_{34}⋅c_{4}⋅l₁ ⋅l₂ ⋅l₃⋅s\n",
       "\n",
       "                 2          3                          2          2   2       \n",
       "_{34} - 3⋅c_{234} ⋅c_{34}⋅l₁ ⋅l₂⋅l₄⋅s_{234} + 6⋅c_{234} ⋅c_{34}⋅l₁ ⋅l₂ ⋅l₄⋅s_{\n",
       "\n",
       "               2      2   2      2                   2         2              \n",
       "34} + 3⋅c_{234} ⋅c_{4} ⋅l₁ ⋅l₂⋅l₃ ⋅s_{34} + 6⋅c_{234} ⋅c_{4}⋅l₁ ⋅l₂⋅l₃⋅l₄⋅s_{3\n",
       "\n",
       "              2   2      2                          3   2   3                 \n",
       "4} + 3⋅c_{234} ⋅l₁ ⋅l₂⋅l₄ ⋅s_{34} - 3⋅c_{234}⋅c_{34} ⋅l₁ ⋅l₂ ⋅s_{234} + c_{234\n",
       "\n",
       "        3      4                          2         2   2                     \n",
       "}⋅c_{34} ⋅l₁⋅l₂ ⋅s_{34} - 6⋅c_{234}⋅c_{34} ⋅c_{4}⋅l₁ ⋅l₂ ⋅l₃⋅s_{234} + 3⋅c_{23\n",
       "\n",
       "         2            3                             2   2   2                 \n",
       "4}⋅c_{34} ⋅c_{4}⋅l₁⋅l₂ ⋅l₃⋅s_{34} - 6⋅c_{234}⋅c_{34} ⋅l₁ ⋅l₂ ⋅l₄⋅s_{234} + 3⋅c\n",
       "\n",
       "             2      3                                   2   2      2          \n",
       "_{234}⋅c_{34} ⋅l₁⋅l₂ ⋅l₄⋅s_{34} - 3⋅c_{234}⋅c_{34}⋅c_{4} ⋅l₁ ⋅l₂⋅l₃ ⋅s_{234} +\n",
       "\n",
       "                       2      2   2                                   2       \n",
       " 3⋅c_{234}⋅c_{34}⋅c_{4} ⋅l₁⋅l₂ ⋅l₃ ⋅s_{34} - 6⋅c_{234}⋅c_{34}⋅c_{4}⋅l₁ ⋅l₂⋅l₃⋅\n",
       "\n",
       "                                         2                                   2\n",
       "l₄⋅s_{234} + 6⋅c_{234}⋅c_{34}⋅c_{4}⋅l₁⋅l₂ ⋅l₃⋅l₄⋅s_{34} - 3⋅c_{234}⋅c_{34}⋅l₁ \n",
       "\n",
       "      2                                 2   2                       3         \n",
       "⋅l₂⋅l₄ ⋅s_{234} + 3⋅c_{234}⋅c_{34}⋅l₁⋅l₂ ⋅l₄ ⋅s_{34} + c_{234}⋅c_{4} ⋅l₁⋅l₂⋅l₃\n",
       "\n",
       "3                         2         2                                        2\n",
       " ⋅s_{34} + 3⋅c_{234}⋅c_{4} ⋅l₁⋅l₂⋅l₃ ⋅l₄⋅s_{34} + 3⋅c_{234}⋅c_{4}⋅l₁⋅l₂⋅l₃⋅l₄ \n",
       "\n",
       "                          3                4      4                   3       \n",
       "⋅s_{34} + c_{234}⋅l₁⋅l₂⋅l₄ ⋅s_{34} - c_{34} ⋅l₁⋅l₂ ⋅s_{234} - 3⋅c_{34} ⋅c_{4}⋅\n",
       "\n",
       "     3                      3      3                      2      2      2   2 \n",
       "l₁⋅l₂ ⋅l₃⋅s_{234} - 3⋅c_{34} ⋅l₁⋅l₂ ⋅l₄⋅s_{234} - 3⋅c_{34} ⋅c_{4} ⋅l₁⋅l₂ ⋅l₃ ⋅\n",
       "\n",
       "                  2            2                         2      2   2         \n",
       "s_{234} - 6⋅c_{34} ⋅c_{4}⋅l₁⋅l₂ ⋅l₃⋅l₄⋅s_{234} - 3⋅c_{34} ⋅l₁⋅l₂ ⋅l₄ ⋅s_{234} \n",
       "\n",
       "              3         3                         2         2                 \n",
       "- c_{34}⋅c_{4} ⋅l₁⋅l₂⋅l₃ ⋅s_{234} - 3⋅c_{34}⋅c_{4} ⋅l₁⋅l₂⋅l₃ ⋅l₄⋅s_{234} - 3⋅c\n",
       "\n",
       "                       2                          3        \n",
       "_{34}⋅c_{4}⋅l₁⋅l₂⋅l₃⋅l₄ ⋅s_{234} - c_{34}⋅l₁⋅l₂⋅l₄ ⋅s_{234}"
      ]
     },
     "metadata": {},
     "output_type": "display_data"
    },
    {
     "name": "stdout",
     "output_type": "stream",
     "text": [
      "---\n"
     ]
    }
   ],
   "source": [
    "nsm1 = st.nullspaceMatrix(B[:, 0].T) ##:\n",
    "nsm2 = st.nullspaceMatrix(B[:, 1].T) ##:\n",
    "\n",
    "\n",
    "lb1 = st.lie_bracket(nsm1[:, 0], nsm1[:, 1], pp)\n",
    "lb2 = st.lie_bracket(nsm2[:, 0], nsm2[:, 1], pp)\n",
    "\n",
    "\n",
    "st.generic_rank(st.col_stack(nsm1, lb1)) ##:\n",
    "st.generic_rank(st.col_stack(nsm2, lb2)) ##:\n",
    "\n",
    "\n",
    "det1 = st.col_stack(nsm1, lb1).det().smplf.subs(rplmsscc) ##:\n",
    "det2 = st.col_stack(nsm2, lb2).det().subs(rplmsscc) ##:"
   ]
  },
  {
   "cell_type": "markdown",
   "metadata": {},
   "source": [
    "### Conclusion\n",
    "For these two modified systems (either without $\\tau_\\mathrm t$ or without $\\tau_\\mathrm n$) a separated coordinate representaion does not exist."
   ]
  }
 ],
 "metadata": {
  "kernelspec": {
   "display_name": "Python 3",
   "language": "python",
   "name": "python3"
  },
  "language_info": {
   "codemirror_mode": {
    "name": "ipython",
    "version": 3
   },
   "file_extension": ".py",
   "mimetype": "text/x-python",
   "name": "python",
   "nbconvert_exporter": "python",
   "pygments_lexer": "ipython3",
   "version": "3.6.3"
  }
 },
 "nbformat": 4,
 "nbformat_minor": 1
}
