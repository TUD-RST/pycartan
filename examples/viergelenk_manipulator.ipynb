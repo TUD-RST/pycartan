{
 "cells": [
  {
   "cell_type": "code",
   "execution_count": 1,
   "metadata": {},
   "outputs": [
    {
     "name": "stdout",
     "output_type": "stream",
     "text": [
      "Wed Jun 21 19:42:28 2017\n"
     ]
    }
   ],
   "source": [
    "import time\n",
    "print(time.ctime())"
   ]
  },
  {
   "cell_type": "markdown",
   "metadata": {},
   "source": [
    "<sub>\n",
    "This notebook is an example, related to a german journal paper. Please contact the pycartan authors if you are interested in an english translation.\n",
    "</sub>\n",
    "\n",
    "<hr>\n",
    "\n",
    "<sub>Bei diesem IPython-Notebook handelt es sich um eine Beispiel-Rechnung als Ergänzung zum Aufsatz \"Über die Existenz einer separierten Koordinatendarstellung für unteraktuierte mechanische Systeme\", eingereicht zur Veröffentlichung bei der Zeitschrift *at - Automatisierungstechnik*.\n",
    "\n",
    "Der enthaltene Pythoncode hängt u.a. von folgenden Modulen ab:\n",
    "\n",
    "* [`symbtools`](https://github.com/TUD-RST/symbtools) \n",
    "  (Grundlegende Funktionalität zum symbolischen Rechnen in der Regelungstheorie)\n",
    "    \n",
    "* [`pycartan`](https://github.com/TUD-RST/pycartan)\n",
    "  (Funktionalität zum Rechnen mit Differentialformen)\n",
    "\n",
    "* [`displaytools`](https://github.com/cknoll/displaytools)\n",
    " (IPython-Erweiterung, welche spezielle Kommentare (z.B. `##:`) einführt um das Ergebnis einer Zuweisung anzeigen zu lassen.)\n",
    "\n",
    "\n",
    "Für weitere Informationen siehe auch: \n",
    "https://raw.githubusercontent.com/cknoll/beispiele/master/readme.md\n",
    "</sub>\n",
    "\n",
    "---"
   ]
  },
  {
   "cell_type": "markdown",
   "metadata": {},
   "source": [
    "[//]: # (custom_config_start)\n",
    "$$\n",
    "\\newcommand{\\col}{\\mathrm{col}}\n",
    "\\newcommand{\\opspan}{\\operatorname{span}}\n",
    "\\newcommand{\\bs}{\\boldsymbol}\n",
    "\\newcommand{\\mb}{\\mathbf}\n",
    "\\newcommand{\\nx}{n_{\\boldsymbol x}}\n",
    "\\newcommand{\\Ddt}{\\left(\\tfrac{d}{dt}\\right)}\n",
    "$$\n",
    "\n",
    "[//]: # (custom_config_end)\n",
    "\n",
    "**Betrachtetes System**: unteraktuierten Viergelenkmanipulator mit Stellkräften am Endeffektor.<br>\n",
    "\n",
    "<img src=\"images/manipulator_def_notebook.png\">\n",
    "\n",
    "**Betrachtete Frage**:\n",
    "Existiert eine separierte Koordinatendarstellung (Aufspaltung in aktuierte und nicht aktuierte Koordinaten)"
   ]
  },
  {
   "cell_type": "code",
   "execution_count": 2,
   "metadata": {
    "collapsed": true
   },
   "outputs": [],
   "source": [
    "%load_ext displaytools3\n",
    "\n",
    "import sympy as sp\n",
    "from sympy import sin, cos, pi\n",
    "from sympy.interactive import printing\n",
    "import symbtools as st\n",
    "import symbtools.modeltools as mt\n",
    "from symbtools.modeltools import Rz # Rotationsmatrix\n",
    "\n",
    "\n",
    "printing.init_printing(1)"
   ]
  },
  {
   "cell_type": "code",
   "execution_count": 3,
   "metadata": {},
   "outputs": [
    {
     "data": {
      "image/png": "[encoded data removed]",
      "text/latex": [
       "$$\\texttt{ttheta.T} := \\left[\\begin{matrix}p_{1} & p_{2} & p_{3} & p_{4}\\end{matrix}\\right]$$"
      ],
      "text/plain": [
       "ttheta.T := [p₁  p₂  p₃  p₄]"
      ]
     },
     "metadata": {},
     "output_type": "display_data"
    },
    {
     "name": "stdout",
     "output_type": "stream",
     "text": [
      "---\n"
     ]
    },
    {
     "data": {
      "image/png": "[encoded data removed]",
      "text/latex": [
       "$$\\texttt{tthetad.T} := \\left[\\begin{matrix}\\dot{p}_{1} & \\dot{p}_{2} & \\dot{p}_{3} & \\dot{p}_{4}\\end{matrix}\\right]$$"
      ],
      "text/plain": [
       "tthetad.T := [ṗ₁  ṗ₂  ṗ₃  ṗ₄]"
      ]
     },
     "metadata": {},
     "output_type": "display_data"
    },
    {
     "name": "stdout",
     "output_type": "stream",
     "text": [
      "---\n"
     ]
    },
    {
     "data": {
      "image/png": "[encoded data removed]",
      "text/latex": [
       "$$\\texttt{tthetadd.T} := \\left[\\begin{matrix}\\ddot{p}_{1} & \\ddot{p}_{2} & \\ddot{p}_{3} & \\ddot{p}_{4}\\end{matrix}\\right]$$"
      ],
      "text/plain": [
       "tthetadd.T := [p̈₁  p̈₂  p̈₃  p̈₄]"
      ]
     },
     "metadata": {},
     "output_type": "display_data"
    },
    {
     "name": "stdout",
     "output_type": "stream",
     "text": [
      "---\n"
     ]
    }
   ],
   "source": [
    "# generrischer Code für unteraktuierte Systeme\n",
    "\n",
    "t = sp.Symbol('t')\n",
    "np = 4\n",
    "nq = 0\n",
    "n = np + nq\n",
    "pp = st.symb_vector(\"p1:{0}\".format(np+1))\n",
    "qq = st.symb_vector(\"q1:{0}\".format(nq+1))\n",
    "\n",
    "\n",
    "aa = st.symb_vector(\"a1:{0}\".format(nq+1))\n",
    "\n",
    "ttheta = st.row_stack(pp, qq) ##:T\n",
    "tthetad = st.time_deriv(ttheta, ttheta) ##:T\n",
    "tthetadd = st.time_deriv(ttheta, ttheta, order=2) ##:T\n",
    "st.make_global(ttheta, tthetad)"
   ]
  },
  {
   "cell_type": "code",
   "execution_count": 4,
   "metadata": {
    "collapsed": true
   },
   "outputs": [],
   "source": [
    "params = sp.symbols('s1, s2, s3, s4, m1, m2, m3, m4, J1, J2, J3, J4, l1, l2, l3, l4, kappa')\n",
    "st.make_global(params)\n",
    "\n",
    "\n",
    "# Hilfsterme\n",
    "#QQ = st.symb_vector(\"Q1, Q2, Q3, Q4\")\n",
    "\n",
    "# Kräfte am Endeffektor\n",
    "#tau1, tau2 = ttau = st.symb_vector(\"tau1, tau2\")"
   ]
  },
  {
   "cell_type": "markdown",
   "metadata": {},
   "source": [
    "### Bestimmung von $\\bs B(\\bs \\theta)$"
   ]
  },
  {
   "cell_type": "code",
   "execution_count": 5,
   "metadata": {},
   "outputs": [
    {
     "data": {
      "image/png": "[encoded data removed]",
      "text/latex": [
       "$$\\left[\\begin{matrix}\\cos{\\left (p_{1} \\right )} & - \\sin{\\left (p_{1} \\right )}\\\\\\sin{\\left (p_{1} \\right )} & \\cos{\\left (p_{1} \\right )}\\end{matrix}\\right]$$"
      ],
      "text/plain": [
       "⎡cos(p₁)  -sin(p₁)⎤\n",
       "⎢                 ⎥\n",
       "⎣sin(p₁)  cos(p₁) ⎦"
      ]
     },
     "execution_count": 5,
     "metadata": {},
     "output_type": "execute_result"
    }
   ],
   "source": [
    "Rz(p1) # Rotationsmatirx veranschaulichen"
   ]
  },
  {
   "cell_type": "code",
   "execution_count": 6,
   "metadata": {
    "collapsed": true
   },
   "outputs": [],
   "source": [
    "\n",
    "Fx, Fy = FF = st.symb_vector('F_t, F_n')\n",
    "\n",
    "FF4 = sp.Matrix([Fx, Fy])\n",
    "\n",
    "\n",
    "Q4 = l4 * FF4[1]\n",
    "\n",
    "FF3 = Rz(p4)[:, 0]*FF4[0]\n",
    "Q3 = l3 * FF3[1]\n",
    "\n",
    "FF2 = Rz(p3)[:, 0]*FF3[0]\n",
    "Q2 = l2 * FF2[1]\n",
    "\n",
    "FF1 = Rz(p2)[:, 0]*FF2[0]\n",
    "Q1 = l1 * FF1[1]\n"
   ]
  },
  {
   "cell_type": "code",
   "execution_count": 7,
   "metadata": {},
   "outputs": [
    {
     "data": {
      "image/png": "[encoded data removed]",
      "text/latex": [
       "$$\\texttt{QQ} := \\left[\\begin{matrix}F_{t} l_{1} \\sin{\\left (p_{2} \\right )} \\cos{\\left (p_{3} \\right )} \\cos{\\left (p_{4} \\right )}\\\\F_{t} l_{2} \\sin{\\left (p_{3} \\right )} \\cos{\\left (p_{4} \\right )}\\\\F_{t} l_{3} \\sin{\\left (p_{4} \\right )}\\\\F_{n} l_{4}\\end{matrix}\\right]$$"
      ],
      "text/plain": [
       "QQ := ⎡Fₜ⋅l₁⋅sin(p₂)⋅cos(p₃)⋅cos(p₄)⎤\n",
       "⎢                             ⎥\n",
       "⎢    Fₜ⋅l₂⋅sin(p₃)⋅cos(p₄)    ⎥\n",
       "⎢                             ⎥\n",
       "⎢        Fₜ⋅l₃⋅sin(p₄)        ⎥\n",
       "⎢                             ⎥\n",
       "⎣            Fₙ⋅l₄            ⎦"
      ]
     },
     "metadata": {},
     "output_type": "display_data"
    },
    {
     "name": "stdout",
     "output_type": "stream",
     "text": [
      "---\n"
     ]
    },
    {
     "data": {
      "image/png": "[encoded data removed]",
      "text/latex": [
       "$$\\texttt{B.T} := \\left[\\begin{matrix}l_{1} \\sin{\\left (p_{2} \\right )} \\cos{\\left (p_{3} \\right )} \\cos{\\left (p_{4} \\right )} & l_{2} \\sin{\\left (p_{3} \\right )} \\cos{\\left (p_{4} \\right )} & l_{3} \\sin{\\left (p_{4} \\right )} & 0\\\\0 & 0 & 0 & l_{4}\\end{matrix}\\right]$$"
      ],
      "text/plain": [
       "B.T := ⎡l₁⋅sin(p₂)⋅cos(p₃)⋅cos(p₄)  l₂⋅sin(p₃)⋅cos(p₄)  l₃⋅sin(p₄)  0 ⎤\n",
       "⎢                                                              ⎥\n",
       "⎣            0                       0               0       l₄⎦"
      ]
     },
     "metadata": {},
     "output_type": "display_data"
    },
    {
     "name": "stdout",
     "output_type": "stream",
     "text": [
      "---\n"
     ]
    }
   ],
   "source": [
    "QQ = sp.Matrix([Q1, Q2, Q3, Q4]) ##:\n",
    "B = QQ.jacobian(FF) ##:T"
   ]
  },
  {
   "cell_type": "code",
   "execution_count": 8,
   "metadata": {
    "collapsed": true
   },
   "outputs": [],
   "source": [
    "import pycartan as pc\n",
    "\n",
    "w1, w2 = ww = pc.VectorDifferentialForm(1, ttheta, coeff=B.T)"
   ]
  },
  {
   "cell_type": "code",
   "execution_count": 9,
   "metadata": {
    "collapsed": true
   },
   "outputs": [],
   "source": [
    "res1 = w1.d^w1^w2\n",
    "res2 = w2.d^w1^w2"
   ]
  },
  {
   "cell_type": "code",
   "execution_count": 10,
   "metadata": {},
   "outputs": [
    {
     "data": {
      "image/png": "[encoded data removed]",
      "text/latex": [
       "$$\\texttt{c} := l_{4} \\left(- l_{1} l_{2} \\sin{\\left (p_{2} \\right )} \\sin^{2}{\\left (p_{3} \\right )} \\cos^{2}{\\left (p_{4} \\right )} - l_{1} l_{2} \\sin{\\left (p_{2} \\right )} \\cos^{2}{\\left (p_{3} \\right )} \\cos^{2}{\\left (p_{4} \\right )} - l_{1} l_{3} \\sin{\\left (p_{4} \\right )} \\cos{\\left (p_{2} \\right )} \\cos{\\left (p_{3} \\right )} \\cos{\\left (p_{4} \\right )}\\right)$$"
      ],
      "text/plain": [
       "c :=    ⎛                   2        2                        2        2           \n",
       "l₄⋅⎝- l₁⋅l₂⋅sin(p₂)⋅sin (p₃)⋅cos (p₄) - l₁⋅l₂⋅sin(p₂)⋅cos (p₃)⋅cos (p₄) - l₁⋅l\n",
       "\n",
       "                                 ⎞\n",
       "₃⋅sin(p₄)⋅cos(p₂)⋅cos(p₃)⋅cos(p₄)⎠"
      ]
     },
     "metadata": {},
     "output_type": "display_data"
    },
    {
     "name": "stdout",
     "output_type": "stream",
     "text": [
      "---\n"
     ]
    }
   ],
   "source": [
    "c = res1.coeff[0]##:"
   ]
  },
  {
   "cell_type": "code",
   "execution_count": 11,
   "metadata": {},
   "outputs": [
    {
     "data": {
      "image/png": "[encoded data removed]",
      "text/latex": [
       "$$\\texttt{cs} := - l_{1} l_{4} \\left(l_{2} \\sin{\\left (p_{2} \\right )} \\cos{\\left (p_{4} \\right )} + l_{3} \\sin{\\left (p_{4} \\right )} \\cos{\\left (p_{2} \\right )} \\cos{\\left (p_{3} \\right )}\\right) \\cos{\\left (p_{4} \\right )}$$"
      ],
      "text/plain": [
       "cs := -l₁⋅l₄⋅(l₂⋅sin(p₂)⋅cos(p₄) + l₃⋅sin(p₄)⋅cos(p₂)⋅cos(p₃))⋅cos(p₄)"
      ]
     },
     "metadata": {},
     "output_type": "display_data"
    },
    {
     "name": "stdout",
     "output_type": "stream",
     "text": [
      "---\n"
     ]
    }
   ],
   "source": [
    "cs = c.simplify() ##:\n"
   ]
  },
  {
   "cell_type": "code",
   "execution_count": 12,
   "metadata": {},
   "outputs": [
    {
     "data": {
      "text/plain": [
       "(0)dp1^dp2^dp3^dp4"
      ]
     },
     "execution_count": 12,
     "metadata": {},
     "output_type": "execute_result"
    }
   ],
   "source": [
    "res2"
   ]
  }
 ],
 "metadata": {
  "kernelspec": {
   "display_name": "Python 3",
   "language": "python",
   "name": "python3"
  },
  "language_info": {
   "codemirror_mode": {
    "name": "ipython",
    "version": 3
   },
   "file_extension": ".py",
   "mimetype": "text/x-python",
   "name": "python",
   "nbconvert_exporter": "python",
   "pygments_lexer": "ipython3",
   "version": "3.6.3"
  }
 },
 "nbformat": 4,
 "nbformat_minor": 1
}
